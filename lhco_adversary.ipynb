{
 "cells": [
  {
   "cell_type": "code",
   "execution_count": 1,
   "metadata": {},
   "outputs": [],
   "source": [
    "import os\n",
    "os.environ['CUDA_VISIBLE_DEVICES'] = '1'\n",
    "\n",
    "import tensorflow as tf\n",
    "config = tf.ConfigProto()\n",
    "config.gpu_options.allow_growth = True\n",
    "session = tf.Session(config=config)"
   ]
  },
  {
   "cell_type": "code",
   "execution_count": 2,
   "metadata": {},
   "outputs": [
    {
     "name": "stderr",
     "output_type": "stream",
     "text": [
      "Using TensorFlow backend.\n"
     ]
    }
   ],
   "source": [
    "import keras.backend as K\n",
    "import keras.layers as layers\n",
    "from keras.models import Model\n",
    "from keras.utils import to_categorical"
   ]
  },
  {
   "cell_type": "code",
   "execution_count": 3,
   "metadata": {},
   "outputs": [],
   "source": [
    "import h5py\n",
    "import numpy as np\n",
    "import matplotlib.pyplot as plt\n",
    "from pyjet import cluster,DTYPE_PTEPM\n",
    "import pandas as pd"
   ]
  },
  {
   "cell_type": "code",
   "execution_count": 4,
   "metadata": {},
   "outputs": [],
   "source": [
    "# use this cell to make a smaller input file for testing purposes\n",
    "\n",
    "#d = pd.read_hdf(\"events.h5\")\n",
    "#np.save('events_small.npy', d[:100000])"
   ]
  },
  {
   "cell_type": "code",
   "execution_count": 5,
   "metadata": {},
   "outputs": [
    {
     "data": {
      "text/plain": [
       "(100000, 2101)"
      ]
     },
     "execution_count": 5,
     "metadata": {},
     "output_type": "execute_result"
    }
   ],
   "source": [
    "d = pd.DataFrame(np.load('events_small.npy'))\n",
    "d.shape"
   ]
  },
  {
   "cell_type": "code",
   "execution_count": 6,
   "metadata": {},
   "outputs": [],
   "source": [
    "# masks for bg and signal events\n",
    "is_bg = (d[2100] == 0)\n",
    "is_sig = (d[2100] == 1)"
   ]
  },
  {
   "cell_type": "code",
   "execution_count": 7,
   "metadata": {},
   "outputs": [
    {
     "name": "stdout",
     "output_type": "stream",
     "text": [
      "N_bg  = 90941\n",
      "N_sig = 9059\n",
      "N_tot = 100000\n"
     ]
    }
   ],
   "source": [
    "print(\"N_bg  = %d\"%np.sum(is_bg))\n",
    "print(\"N_sig = %d\"%np.sum(is_sig))\n",
    "print(\"N_tot = %d\"%(np.sum(is_bg) + np.sum(is_sig)))"
   ]
  },
  {
   "cell_type": "code",
   "execution_count": 8,
   "metadata": {},
   "outputs": [],
   "source": [
    "# pull out the bg and signal events separately, and reshape to (Nevt, Nparticle, 3)\n",
    "# the last axis is (pT,eta,phi)\n",
    "\n",
    "bg = d[is_bg].to_numpy()[:,:-1].reshape((-1,700,3))\n",
    "sig = d[is_sig].to_numpy()[:,:-1].reshape((-1,700,3))"
   ]
  },
  {
   "cell_type": "code",
   "execution_count": 9,
   "metadata": {},
   "outputs": [
    {
     "name": "stdout",
     "output_type": "stream",
     "text": [
      "(9059, 700, 3)\n",
      "(90941, 700, 3)\n"
     ]
    }
   ],
   "source": [
    "print(sig.shape)\n",
    "print(bg.shape)"
   ]
  },
  {
   "cell_type": "code",
   "execution_count": 10,
   "metadata": {},
   "outputs": [],
   "source": [
    "# Takes an input of shape (Nevt, Nparticle, 3), and returns a tuple (jets, consts):\n",
    "# `jets` is a list containing the (pt, eta, phi, m) for the leading jet in each event\n",
    "# `consts` is a list containing the (pt, eta, phi) for the leading `ntrk` particles in the jet.\n",
    "\n",
    "def cluster_jets(evts, ntrk=16, minpt=1600, gev=False):\n",
    "    ljets = np.zeros((len(evts), 4))\n",
    "    consts = np.zeros((len(evts), ntrk, 3))\n",
    "    \n",
    "    unit = 1e3 if gev else 1.0\n",
    "    \n",
    "    arr = np.zeros(700, dtype=DTYPE_PTEPM)\n",
    "    for i,evt in enumerate(evts):\n",
    "        #pt = evt[0::3]\n",
    "        pt = evt[:,0]\n",
    "        mask = pt>0\n",
    "        n = np.sum(mask)\n",
    "        pt = pt[mask]\n",
    "        eta = evt[:,1][mask]\n",
    "        phi = evt[:,2][mask]\n",
    "        pj_input = arr[:n]\n",
    "        pj_input['pT'] = pt*unit\n",
    "        pj_input['eta'] = eta\n",
    "        pj_input['phi'] = phi\n",
    "        sequence = cluster(pj_input, R=1.0, p=-1)\n",
    "        jets = sequence.inclusive_jets(ptmin=20)\n",
    "\n",
    "        if len(jets) < 1:\n",
    "            continue\n",
    "        \n",
    "        j0 = jets[0]\n",
    "        \n",
    "        \n",
    "        c0 = j0.constituents_array()\n",
    "        c0[::-1].sort()\n",
    "        nc = min(c0.shape[0], ntrk)\n",
    "        \n",
    "        if c0.shape[0] < ntrk:\n",
    "            continue\n",
    "            \n",
    "        ljets[i] = (j0.pt, j0.eta, j0.phi, j0.mass)\n",
    "        \n",
    "        consts[i][:nc,0] = c0[:nc]['pT']\n",
    "        consts[i][:nc,1] = c0[:nc]['eta']\n",
    "        consts[i][:nc,2] = c0[:nc]['phi']\n",
    "        \n",
    "    sel = ljets[:,0] > minpt\n",
    "    ljets = ljets[sel]\n",
    "    consts = consts[sel]\n",
    "    \n",
    "    return ljets, consts"
   ]
  },
  {
   "cell_type": "code",
   "execution_count": 11,
   "metadata": {},
   "outputs": [],
   "source": [
    "# cluster jets, requiring pT>1.6 TeV\n",
    "\n",
    "ntrk = 32\n",
    "minpt = 1600\n",
    "\n",
    "bg_jets, bg_consts = cluster_jets(bg, ntrk=ntrk, minpt=minpt)\n",
    "sig_jets, sig_consts = cluster_jets(sig, ntrk=ntrk, minpt=minpt)"
   ]
  },
  {
   "cell_type": "code",
   "execution_count": 12,
   "metadata": {},
   "outputs": [
    {
     "data": {
      "image/png": "[encoded data removed]",
      "text/plain": [
       "<Figure size 432x288 with 1 Axes>"
      ]
     },
     "metadata": {
      "needs_background": "light"
     },
     "output_type": "display_data"
    }
   ],
   "source": [
    "plt.hist([bg_jets[:,0], sig_jets[:,0]], histtype='step', bins=40, label=['bg','sig'])\n",
    "plt.yscale('log')\n",
    "plt.xlabel(\"Jet pT\")\n",
    "plt.legend();"
   ]
  },
  {
   "cell_type": "code",
   "execution_count": 13,
   "metadata": {},
   "outputs": [
    {
     "data": {
      "image/png": "[encoded data removed]",
      "text/plain": [
       "<Figure size 432x288 with 1 Axes>"
      ]
     },
     "metadata": {
      "needs_background": "light"
     },
     "output_type": "display_data"
    }
   ],
   "source": [
    "plt.hist([bg_jets[:,3], sig_jets[:,3]], histtype='step', bins=40, label=['bg', 'sig'])\n",
    "plt.yscale('log');\n",
    "plt.xlabel(\"jet mass\")\n",
    "plt.legend();"
   ]
  },
  {
   "cell_type": "code",
   "execution_count": 14,
   "metadata": {},
   "outputs": [
    {
     "data": {
      "image/png": "[encoded data removed]",
      "text/plain": [
       "<Figure size 432x288 with 1 Axes>"
      ]
     },
     "metadata": {
      "needs_background": "light"
     },
     "output_type": "display_data"
    }
   ],
   "source": [
    "plt.hist([bg_jets[:,0][np.abs(bg_jets[:,3]-500)<50], sig_jets[:,0][np.abs(sig_jets[:,3]-500)<50]], histtype='step', bins=40, label=['bg','sig'])\n",
    "plt.yscale('log');\n",
    "plt.xlabel(\"jet pT (|mass - 500|<50)\")\n",
    "plt.legend();"
   ]
  },
  {
   "cell_type": "code",
   "execution_count": 15,
   "metadata": {},
   "outputs": [],
   "source": [
    "# Format the dataset for input to the NN.\n",
    "# First stack to together data from the two classes\n",
    "\n",
    "X = np.concatenate([bg_consts, sig_consts], axis=0).copy()\n",
    "\n",
    "# convert pT units to TeV (to limit range of inputs to NN)\n",
    "X[:,:,0] /= 1000.\n",
    "\n",
    "# make labels for bg (=0) and signal(=1)\n",
    "y = np.zeros(X.shape[0], dtype=int)\n",
    "y[bg_consts.shape[0]:] = 1\n",
    "\n",
    "# randomly assign 85% of data to training sample, reserve the rest for validation\n",
    "is_train = np.random.rand(X.shape[0])<0.85\n",
    "\n",
    "X_train = X[is_train]\n",
    "y_train = y[is_train]\n",
    "\n",
    "X_val = X[~is_train]\n",
    "y_val = y[~is_train]\n",
    "\n",
    "\n",
    "# also make flipped labels for adversarial training\n",
    "y_train_flipped = (y_train+1)%2\n",
    "y_val_flipped = (y_val+1)%2"
   ]
  },
  {
   "cell_type": "code",
   "execution_count": 16,
   "metadata": {},
   "outputs": [
    {
     "name": "stdout",
     "output_type": "stream",
     "text": [
      "(12513, 32, 3)\n",
      "(12513,)\n",
      "(2240, 32, 3)\n",
      "(2240,)\n"
     ]
    }
   ],
   "source": [
    "print(X_train.shape)\n",
    "print(y_train.shape)\n",
    "print(X_val.shape)\n",
    "print(y_val.shape)"
   ]
  },
  {
   "cell_type": "code",
   "execution_count": 17,
   "metadata": {},
   "outputs": [
    {
     "data": {
      "image/png": "[encoded data removed]",
      "text/plain": [
       "<Figure size 432x288 with 1 Axes>"
      ]
     },
     "metadata": {
      "needs_background": "light"
     },
     "output_type": "display_data"
    }
   ],
   "source": [
    "plt.hist([X[y==0][:,:,0].flatten(), X[y==1][:,:,0].flatten()],histtype='step',bins=80, label=['bg','sig']);\n",
    "plt.yscale('log')\n",
    "plt.xlabel('Constituent pT')\n",
    "plt.legend();"
   ]
  },
  {
   "cell_type": "code",
   "execution_count": 18,
   "metadata": {},
   "outputs": [],
   "source": [
    "# build and return three keras NN models: (classifier, adv, composed)\n",
    "# The classifier takes `ntrk` constituents from a leading jet, and outputs [0,1]\n",
    "# The adversary takes `ntrk` constituents, and outputs the same shape with the 4-vectors perturbed\n",
    "# The composed model is the result of the classifier applied to adversary outputs, i.e. output=adv(cls(input))\n",
    "\n",
    "def mk_model(ntrk):\n",
    "    K.clear_session()\n",
    "    \n",
    "    classifier_input = layers.Input((ntrk,3))\n",
    "    \n",
    "    H = classifier_input\n",
    "    \n",
    "    H = layers.Flatten()(H)\n",
    "    \n",
    "    for _ in range(2):\n",
    "        H = layers.Dense(128, activation='relu')(H)\n",
    "    \n",
    "    H = layers.Dense(2, activation='softmax')(H)\n",
    "    \n",
    "    classifier = Model(classifier_input, H)\n",
    "    \n",
    "    classifier.compile(optimizer='adam', loss='binary_crossentropy', metrics=['acc'])\n",
    "    \n",
    "    adv_input = layers.Input((ntrk,3))\n",
    "    H = adv_input\n",
    "    \n",
    "    \n",
    "    pt = layers.Lambda(lambda x: x[:,:,0:1])(H)\n",
    "    eta = layers.Lambda(lambda x: x[:,:,1:2])(H)\n",
    "    phi = layers.Lambda(lambda x: x[:,:,2:3])(H)\n",
    "    \n",
    "    \n",
    "    def pt_reg(pt_weights):\n",
    "        #return 100*K.mean(K.square(K.sum(pt_weights, axis=-1)))\n",
    "        return 1e-2*K.sum(K.square(pt_weights))\n",
    "    \n",
    "    H = layers.Flatten()(H)\n",
    "    \n",
    "    H = layers.Dense(256, activation='relu')(H)\n",
    "    H = layers.Dense(256, activation='relu')(H)\n",
    "    \n",
    "    H = layers.Dense(ntrk, activation='relu', activity_regularizer=pt_reg)(H)\n",
    "    H = layers.Reshape((-1,1))(H)\n",
    "    \n",
    "    pt_mod = layers.Lambda(lambda x: x[0]+x[1])([pt, H])\n",
    "    \n",
    "    adv_output = layers.Concatenate()([pt_mod,eta,phi])\n",
    "    \n",
    "        \n",
    "    adv = Model(adv_input, adv_output)\n",
    "    \n",
    "    comp_input = layers.Input((ntrk,3))\n",
    "    comp_output = classifier(adv(comp_input))\n",
    "    comp = Model(comp_input, comp_output)\n",
    "    \n",
    "    classifier.trainable = False\n",
    "    comp.compile(optimizer='adam', loss='categorical_crossentropy', metrics=['acc'])\n",
    "    classifier.trainable = True\n",
    "    \n",
    "    return classifier, adv, comp"
   ]
  },
  {
   "cell_type": "code",
   "execution_count": 19,
   "metadata": {},
   "outputs": [
    {
     "name": "stdout",
     "output_type": "stream",
     "text": [
      "_________________________________________________________________\n",
      "Layer (type)                 Output Shape              Param #   \n",
      "=================================================================\n",
      "input_1 (InputLayer)         (None, 32, 3)             0         \n",
      "_________________________________________________________________\n",
      "flatten_1 (Flatten)          (None, 96)                0         \n",
      "_________________________________________________________________\n",
      "dense_1 (Dense)              (None, 128)               12416     \n",
      "_________________________________________________________________\n",
      "dense_2 (Dense)              (None, 128)               16512     \n",
      "_________________________________________________________________\n",
      "dense_3 (Dense)              (None, 2)                 258       \n",
      "=================================================================\n",
      "Total params: 29,186\n",
      "Trainable params: 29,186\n",
      "Non-trainable params: 0\n",
      "_________________________________________________________________\n",
      "__________________________________________________________________________________________________\n",
      "Layer (type)                    Output Shape         Param #     Connected to                     \n",
      "==================================================================================================\n",
      "input_2 (InputLayer)            (None, 32, 3)        0                                            \n",
      "__________________________________________________________________________________________________\n",
      "flatten_2 (Flatten)             (None, 96)           0           input_2[0][0]                    \n",
      "__________________________________________________________________________________________________\n",
      "dense_4 (Dense)                 (None, 256)          24832       flatten_2[0][0]                  \n",
      "__________________________________________________________________________________________________\n",
      "dense_5 (Dense)                 (None, 256)          65792       dense_4[0][0]                    \n",
      "__________________________________________________________________________________________________\n",
      "dense_6 (Dense)                 (None, 32)           8224        dense_5[0][0]                    \n",
      "__________________________________________________________________________________________________\n",
      "lambda_1 (Lambda)               (None, 32, 1)        0           input_2[0][0]                    \n",
      "__________________________________________________________________________________________________\n",
      "reshape_1 (Reshape)             (None, 32, 1)        0           dense_6[0][0]                    \n",
      "__________________________________________________________________________________________________\n",
      "lambda_4 (Lambda)               (None, 32, 1)        0           lambda_1[0][0]                   \n",
      "                                                                 reshape_1[0][0]                  \n",
      "__________________________________________________________________________________________________\n",
      "lambda_2 (Lambda)               (None, 32, 1)        0           input_2[0][0]                    \n",
      "__________________________________________________________________________________________________\n",
      "lambda_3 (Lambda)               (None, 32, 1)        0           input_2[0][0]                    \n",
      "__________________________________________________________________________________________________\n",
      "concatenate_1 (Concatenate)     (None, 32, 3)        0           lambda_4[0][0]                   \n",
      "                                                                 lambda_2[0][0]                   \n",
      "                                                                 lambda_3[0][0]                   \n",
      "==================================================================================================\n",
      "Total params: 98,848\n",
      "Trainable params: 98,848\n",
      "Non-trainable params: 0\n",
      "__________________________________________________________________________________________________\n",
      "_________________________________________________________________\n",
      "Layer (type)                 Output Shape              Param #   \n",
      "=================================================================\n",
      "input_3 (InputLayer)         (None, 32, 3)             0         \n",
      "_________________________________________________________________\n",
      "model_2 (Model)              (None, 32, 3)             98848     \n",
      "_________________________________________________________________\n",
      "model_1 (Model)              (None, 2)                 29186     \n",
      "=================================================================\n",
      "Total params: 128,034\n",
      "Trainable params: 98,848\n",
      "Non-trainable params: 29,186\n",
      "_________________________________________________________________\n"
     ]
    }
   ],
   "source": [
    "classifier, adv, comp = mk_model(ntrk)\n",
    "\n",
    "classifier.summary()\n",
    "adv.summary()\n",
    "\n",
    "# NB you need to set the classifier weights to be untrainable when using the composed model.\n",
    "classifier.trainable=False\n",
    "comp.summary()\n",
    "classifier.trainable=True\n",
    "\n",
    "classifier_losses = []\n",
    "classifier_val_losses = []\n",
    "\n",
    "adv_losses = []\n",
    "adv_val_losses = []"
   ]
  },
  {
   "cell_type": "markdown",
   "metadata": {},
   "source": [
    "## Train a simple signal/bg classifier"
   ]
  },
  {
   "cell_type": "code",
   "execution_count": 20,
   "metadata": {},
   "outputs": [
    {
     "name": "stdout",
     "output_type": "stream",
     "text": [
      "Train on 12513 samples, validate on 2240 samples\n",
      "Epoch 1/8\n",
      "12513/12513 [==============================] - 1s 109us/step - loss: 0.6126 - acc: 0.7061 - val_loss: 0.6001 - val_acc: 0.7210\n",
      "Epoch 2/8\n",
      "12513/12513 [==============================] - 1s 71us/step - loss: 0.6015 - acc: 0.7096 - val_loss: 0.5968 - val_acc: 0.7196\n",
      "Epoch 3/8\n",
      "12513/12513 [==============================] - 1s 73us/step - loss: 0.5971 - acc: 0.7103 - val_loss: 0.5935 - val_acc: 0.7196\n",
      "Epoch 4/8\n",
      "12513/12513 [==============================] - 1s 76us/step - loss: 0.5934 - acc: 0.7107 - val_loss: 0.5913 - val_acc: 0.7174\n",
      "Epoch 5/8\n",
      "12513/12513 [==============================] - 1s 88us/step - loss: 0.5903 - acc: 0.7115 - val_loss: 0.5913 - val_acc: 0.7183\n",
      "Epoch 6/8\n",
      "12513/12513 [==============================] - 1s 70us/step - loss: 0.5888 - acc: 0.7133 - val_loss: 0.5890 - val_acc: 0.7183\n",
      "Epoch 7/8\n",
      "12513/12513 [==============================] - 1s 74us/step - loss: 0.5865 - acc: 0.7142 - val_loss: 0.5881 - val_acc: 0.7183\n",
      "Epoch 8/8\n",
      "12513/12513 [==============================] - 1s 87us/step - loss: 0.5847 - acc: 0.7144 - val_loss: 0.5857 - val_acc: 0.7183\n"
     ]
    }
   ],
   "source": [
    "# train the signal classifier first\n",
    "epochs = 8\n",
    "batch_size = 64\n",
    "\n",
    "lr = 1e-4\n",
    "\n",
    "K.set_value(classifier.optimizer.lr, lr)\n",
    "\n",
    "try:\n",
    "    classifier.fit(X_train, to_categorical(y_train,2),\n",
    "              validation_data=(X_val, to_categorical(y_val,2)),\n",
    "              batch_size=batch_size, epochs=epochs)\n",
    "except KeyboardInterrupt:\n",
    "    pass\n",
    "\n",
    "classifier_losses.extend(classifier.history.history['loss'])\n",
    "classifier_val_losses.extend(classifier.history.history['val_loss'])"
   ]
  },
  {
   "cell_type": "code",
   "execution_count": 21,
   "metadata": {},
   "outputs": [
    {
     "data": {
      "image/png": "[encoded data removed]",
      "text/plain": [
       "<Figure size 432x288 with 1 Axes>"
      ]
     },
     "metadata": {
      "needs_background": "light"
     },
     "output_type": "display_data"
    }
   ],
   "source": [
    "plt.plot(classifier_losses, label='train')\n",
    "plt.plot(classifier_val_losses, label='val')\n",
    "plt.xlabel(\"epoch\")\n",
    "plt.ylabel(\"loss\")\n",
    "plt.legend();"
   ]
  },
  {
   "cell_type": "markdown",
   "metadata": {},
   "source": [
    "## train an adversary to modify jet constituents to fool classifier"
   ]
  },
  {
   "cell_type": "code",
   "execution_count": 22,
   "metadata": {},
   "outputs": [
    {
     "name": "stdout",
     "output_type": "stream",
     "text": [
      "Train on 12513 samples, validate on 2240 samples\n",
      "Epoch 1/32\n",
      " - 1s - loss: 1.2127 - acc: 0.2858 - val_loss: 1.0508 - val_acc: 0.2812\n",
      "Epoch 2/32\n",
      " - 1s - loss: 1.0522 - acc: 0.2848 - val_loss: 1.0449 - val_acc: 0.2812\n",
      "Epoch 3/32\n",
      " - 1s - loss: 1.0492 - acc: 0.2845 - val_loss: 1.0436 - val_acc: 0.2812\n",
      "Epoch 4/32\n",
      " - 1s - loss: 1.0485 - acc: 0.2844 - val_loss: 1.0431 - val_acc: 0.2817\n",
      "Epoch 5/32\n",
      " - 1s - loss: 1.0482 - acc: 0.2843 - val_loss: 1.0429 - val_acc: 0.2817\n",
      "Epoch 6/32\n",
      " - 1s - loss: 1.0481 - acc: 0.2843 - val_loss: 1.0427 - val_acc: 0.2817\n",
      "Epoch 7/32\n",
      " - 1s - loss: 1.0481 - acc: 0.2844 - val_loss: 1.0427 - val_acc: 0.2817\n",
      "Epoch 8/32\n",
      " - 1s - loss: 1.0480 - acc: 0.2844 - val_loss: 1.0426 - val_acc: 0.2817\n",
      "Epoch 9/32\n",
      " - 1s - loss: 1.0475 - acc: 0.2844 - val_loss: 1.0410 - val_acc: 0.2817\n",
      "Epoch 10/32\n",
      " - 1s - loss: 1.0466 - acc: 0.2844 - val_loss: 1.0408 - val_acc: 0.2817\n",
      "Epoch 11/32\n",
      " - 1s - loss: 1.0463 - acc: 0.2844 - val_loss: 1.0409 - val_acc: 0.2817\n",
      "Epoch 12/32\n",
      " - 1s - loss: 1.0462 - acc: 0.2844 - val_loss: 1.0407 - val_acc: 0.2817\n",
      "Epoch 13/32\n",
      " - 1s - loss: 1.0462 - acc: 0.2844 - val_loss: 1.0409 - val_acc: 0.2817\n",
      "Epoch 14/32\n",
      " - 1s - loss: 1.0464 - acc: 0.2844 - val_loss: 1.0408 - val_acc: 0.2817\n",
      "Epoch 15/32\n",
      " - 1s - loss: 1.0461 - acc: 0.2844 - val_loss: 1.0405 - val_acc: 0.2817\n",
      "Epoch 16/32\n",
      " - 1s - loss: 1.0461 - acc: 0.2844 - val_loss: 1.0411 - val_acc: 0.2817\n",
      "Epoch 17/32\n",
      " - 1s - loss: 1.0461 - acc: 0.2844 - val_loss: 1.0415 - val_acc: 0.2817\n",
      "Epoch 18/32\n",
      " - 1s - loss: 1.0461 - acc: 0.2844 - val_loss: 1.0406 - val_acc: 0.2817\n",
      "Epoch 19/32\n",
      " - 1s - loss: 1.0461 - acc: 0.2844 - val_loss: 1.0405 - val_acc: 0.2817\n",
      "Epoch 20/32\n",
      " - 1s - loss: 1.0459 - acc: 0.2844 - val_loss: 1.0403 - val_acc: 0.2817\n",
      "Epoch 21/32\n",
      " - 1s - loss: 1.0459 - acc: 0.2844 - val_loss: 1.0405 - val_acc: 0.2817\n",
      "Epoch 22/32\n",
      " - 1s - loss: 1.0459 - acc: 0.2844 - val_loss: 1.0402 - val_acc: 0.2817\n",
      "Epoch 23/32\n",
      " - 1s - loss: 1.0459 - acc: 0.2844 - val_loss: 1.0407 - val_acc: 0.2817\n",
      "Epoch 24/32\n",
      " - 1s - loss: 1.0458 - acc: 0.2844 - val_loss: 1.0405 - val_acc: 0.2817\n",
      "Epoch 25/32\n",
      " - 1s - loss: 1.0458 - acc: 0.2844 - val_loss: 1.0402 - val_acc: 0.2817\n",
      "Epoch 26/32\n",
      " - 1s - loss: 1.0458 - acc: 0.2844 - val_loss: 1.0414 - val_acc: 0.2817\n",
      "Epoch 27/32\n",
      " - 1s - loss: 1.0458 - acc: 0.2844 - val_loss: 1.0403 - val_acc: 0.2817\n",
      "Epoch 28/32\n",
      " - 1s - loss: 1.0458 - acc: 0.2844 - val_loss: 1.0403 - val_acc: 0.2817\n",
      "Epoch 29/32\n",
      " - 1s - loss: 1.0458 - acc: 0.2844 - val_loss: 1.0401 - val_acc: 0.2817\n",
      "Epoch 30/32\n",
      " - 1s - loss: 1.0457 - acc: 0.2844 - val_loss: 1.0402 - val_acc: 0.2817\n",
      "Epoch 31/32\n",
      " - 1s - loss: 1.0456 - acc: 0.2843 - val_loss: 1.0401 - val_acc: 0.2817\n",
      "Epoch 32/32\n",
      " - 1s - loss: 1.0456 - acc: 0.2844 - val_loss: 1.0401 - val_acc: 0.2817\n"
     ]
    }
   ],
   "source": [
    "# Once the classifier is trained to a satisfactory level, we can freeze its weights\n",
    "# and train to adversary, by training the composed model to maximize the opposite classification.\n",
    "epochs = 32\n",
    "batch_size = 64\n",
    "\n",
    "lr = 1e-4\n",
    "\n",
    "K.set_value(comp.optimizer.lr, lr)\n",
    "\n",
    "classifier.trainable = False\n",
    "try:\n",
    "    comp.fit(X_train, to_categorical(y_train_flipped, 2),\n",
    "             validation_data=(X_val, to_categorical(y_val_flipped, 2)),\n",
    "             batch_size=batch_size, epochs=epochs, verbose=2)\n",
    "except KeyboardInterrupt:\n",
    "    pass\n",
    "\n",
    "classifier.trainable = True\n",
    "\n",
    "adv_losses.extend(comp.history.history['loss'])\n",
    "adv_val_losses.extend(comp.history.history['val_loss'])"
   ]
  },
  {
   "cell_type": "code",
   "execution_count": 23,
   "metadata": {},
   "outputs": [
    {
     "data": {
      "image/png": "[encoded data removed]",
      "text/plain": [
       "<Figure size 432x288 with 1 Axes>"
      ]
     },
     "metadata": {
      "needs_background": "light"
     },
     "output_type": "display_data"
    }
   ],
   "source": [
    "plt.plot(adv_losses[2:], label='train')\n",
    "plt.plot(adv_val_losses[2:], label='val')\n",
    "plt.xlabel(\"epoch\")\n",
    "plt.ylabel(\"loss\")\n",
    "plt.legend();"
   ]
  },
  {
   "cell_type": "code",
   "execution_count": 24,
   "metadata": {},
   "outputs": [
    {
     "name": "stdout",
     "output_type": "stream",
     "text": [
      "2240/2240 [==============================] - 0s 48us/step\n"
     ]
    },
    {
     "data": {
      "text/plain": [
       "[0.5856513989823205, 0.7183035714285714]"
      ]
     },
     "execution_count": 24,
     "metadata": {},
     "output_type": "execute_result"
    }
   ],
   "source": [
    "classifier.evaluate(X_val, to_categorical(y_val, 2))"
   ]
  },
  {
   "cell_type": "code",
   "execution_count": 25,
   "metadata": {},
   "outputs": [
    {
     "name": "stdout",
     "output_type": "stream",
     "text": [
      "2240/2240 [==============================] - 0s 60us/step\n"
     ]
    },
    {
     "data": {
      "text/plain": [
       "[0.5858022536550249, 0.7183035714285714]"
      ]
     },
     "execution_count": 25,
     "metadata": {},
     "output_type": "execute_result"
    }
   ],
   "source": [
    "classifier.evaluate(adv.predict(X_val), to_categorical(y_val, 2))"
   ]
  },
  {
   "cell_type": "code",
   "execution_count": 26,
   "metadata": {},
   "outputs": [
    {
     "data": {
      "image/png": "[encoded data removed]",
      "text/plain": [
       "<Figure size 432x288 with 1 Axes>"
      ]
     },
     "metadata": {
      "needs_background": "light"
     },
     "output_type": "display_data"
    }
   ],
   "source": [
    "# plot the pT of the constituents before/after being perturbed by the adversary\n",
    "plt.hist([X_val[:,:,0].flatten(), adv.predict(X_val)[:,:,0].flatten()], bins=100, histtype='step', label=['original','perturbed']);\n",
    "plt.yscale('log')\n",
    "plt.xlabel(\"constituent pT\")\n",
    "plt.legend();"
   ]
  },
  {
   "cell_type": "code",
   "execution_count": null,
   "metadata": {},
   "outputs": [],
   "source": []
  },
  {
   "cell_type": "code",
   "execution_count": null,
   "metadata": {},
   "outputs": [],
   "source": []
  },
  {
   "cell_type": "markdown",
   "metadata": {},
   "source": [
    "## per-event adversarial examples using FGSM"
   ]
  },
  {
   "cell_type": "code",
   "execution_count": 27,
   "metadata": {},
   "outputs": [],
   "source": [
    "# pick a particular jet, and initialize the adversarial example with its values. also initialize the adversarial noise with zeros\n",
    "\n",
    "jet_index = 0\n",
    "x = X_val[jet_index:jet_index+1]\n",
    "x_adv = x.copy()\n",
    "x_noise = np.zeros_like(x)\n",
    "\n",
    "prediction_history = [classifier.predict(x)[0,0]]"
   ]
  },
  {
   "cell_type": "code",
   "execution_count": null,
   "metadata": {},
   "outputs": [],
   "source": []
  },
  {
   "cell_type": "code",
   "execution_count": 28,
   "metadata": {},
   "outputs": [],
   "source": [
    "# Define the epsilons in the (pt, eta, phi) directions\n",
    "epsilon = (1e-4,1e-2,1e-2)\n",
    "nstep = 16\n",
    "\n",
    "# Then loop for the desired number of iterations to update the adversarial\n",
    "# noise using the classifier loss gradient:\n",
    "\n",
    "sess = K.get_session()\n",
    "epsilon = K.reshape(K.constant(epsilon), (1,1,3))\n",
    "for _ in range(nstep):\n",
    "    loss = -1*K.categorical_crossentropy(np.array([0,1]), classifier.get_output_at(0))\n",
    "    grads = K.gradients(loss, classifier.get_input_at(0))\n",
    "    delta = K.sign(grads[0])\n",
    "    #delta = grads[0]\n",
    "    x_noise = x_noise + delta\n",
    "    \n",
    "    x_adv = x_adv + epsilon*delta\n",
    "    x_adv = sess.run(x_adv, feed_dict={classifier.get_input_at(0):x})\n",
    "    prediction_history.append(classifier.predict(x_adv)[0,0])"
   ]
  },
  {
   "cell_type": "code",
   "execution_count": 29,
   "metadata": {},
   "outputs": [
    {
     "data": {
      "image/png": "[encoded data removed]",
      "text/plain": [
       "<Figure size 432x288 with 1 Axes>"
      ]
     },
     "metadata": {
      "needs_background": "light"
     },
     "output_type": "display_data"
    }
   ],
   "source": [
    "plt.plot(prediction_history)\n",
    "plt.xlabel(\"FGSM iteration\")\n",
    "plt.ylabel(\"NN output\");"
   ]
  },
  {
   "cell_type": "code",
   "execution_count": 30,
   "metadata": {},
   "outputs": [
    {
     "data": {
      "image/png": "[encoded data removed]",
      "text/plain": [
       "<Figure size 432x288 with 1 Axes>"
      ]
     },
     "metadata": {
      "needs_background": "light"
     },
     "output_type": "display_data"
    }
   ],
   "source": [
    "# plot the pT of the jet constituents before / after the adversarial perturbation\n",
    "plt.hist([x[:,:,0].flatten(), x_adv[:,:,0].flatten()], histtype='step', bins=64, label=['before','after']);\n",
    "plt.xlabel(\"constitutuent pT\")\n",
    "plt.legend();"
   ]
  },
  {
   "cell_type": "code",
   "execution_count": 31,
   "metadata": {},
   "outputs": [
    {
     "name": "stdout",
     "output_type": "stream",
     "text": [
      "             pT    |      eta     |     phi      |    mass\n",
      "before:  1.481e+03 |  -8.026e-01  |  -2.051e-01  |  4.552e+02\n",
      "after:   1.457e+03 |  -7.217e-01  |  -1.474e-01  |  5.484e+02\n"
     ]
    }
   ],
   "source": [
    "# re-cluster the constituents to see if there's any effect on the jet-level kinematics:\n",
    "\n",
    "jet_before = cluster_jets(x, ntrk=ntrk, minpt=0, gev=True)[0][0]\n",
    "jet_after = cluster_jets(x_adv, ntrk=ntrk, minpt=0, gev=True)[0][0]\n",
    "\n",
    "print(\"             pT    |      eta     |     phi      |    mass\")\n",
    "print(\"before:  %.3e |  %+.3e  |  %+.3e  |  %.3e\" % tuple(jet_before))\n",
    "print(\"after:   %.3e |  %+.3e  |  %+.3e  |  %.3e\" % tuple(jet_after))"
   ]
  },
  {
   "cell_type": "code",
   "execution_count": 32,
   "metadata": {},
   "outputs": [
    {
     "data": {
      "text/plain": [
       "array([[[ 0.00159978, -0.15999985, -0.16000003],\n",
       "        [ 0.00160003, -0.15999985, -0.15999995],\n",
       "        [ 0.00160003, -0.15999985, -0.15999995],\n",
       "        [ 0.00160003, -0.15999985,  0.15999985],\n",
       "        [-0.00160002,  0.15999985,  0.15999985],\n",
       "        [ 0.00160003, -0.15999985,  0.15999998],\n",
       "        [-0.00160003,  0.15999985,  0.15999988],\n",
       "        [-0.00160003,  0.15999985, -0.16      ],\n",
       "        [-0.00160003, -0.15999985,  0.15999998],\n",
       "        [-0.00160003, -0.15999985, -0.16      ],\n",
       "        [-0.00160003, -0.15999985, -0.15999991],\n",
       "        [-0.00160003, -0.15999985, -0.16000001],\n",
       "        [-0.00160003, -0.15999985,  0.15999999],\n",
       "        [ 0.00160001, -0.15999985,  0.15999985],\n",
       "        [ 0.0016    , -0.15999985, -0.15999995],\n",
       "        [-0.0016    ,  0.15999985, -0.15999994],\n",
       "        [-0.0016    ,  0.15999985, -0.16000001],\n",
       "        [ 0.0016    ,  0.15999985, -0.16      ],\n",
       "        [-0.0016    , -0.15999985, -0.16000001],\n",
       "        [-0.0016    , -0.15999985,  0.15999985],\n",
       "        [ 0.0016    ,  0.15999985,  0.15999998],\n",
       "        [ 0.0016    , -0.15999985, -0.16000004],\n",
       "        [-0.0016    , -0.15999985,  0.15999985],\n",
       "        [ 0.0016    , -0.15999985, -0.15999989],\n",
       "        [ 0.0016    , -0.15999985, -0.15999985],\n",
       "        [ 0.0016    ,  0.15999985,  0.15999985],\n",
       "        [ 0.0016    ,  0.15999985, -0.16      ],\n",
       "        [ 0.0016    , -0.15999985,  0.15999988],\n",
       "        [ 0.0016    ,  0.15999985,  0.16000004],\n",
       "        [ 0.0016    , -0.15999985, -0.15999985],\n",
       "        [ 0.0016    ,  0.15999985, -0.16000003],\n",
       "        [ 0.0016    ,  0.15999985, -0.15999985]]])"
      ]
     },
     "execution_count": 32,
     "metadata": {},
     "output_type": "execute_result"
    }
   ],
   "source": [
    "# print out the raw residual of the consituents\n",
    "x-x_adv"
   ]
  },
  {
   "cell_type": "code",
   "execution_count": null,
   "metadata": {},
   "outputs": [],
   "source": []
  }
 ],
 "metadata": {
  "kernelspec": {
   "display_name": "Python 3",
   "language": "python",
   "name": "python3"
  },
  "language_info": {
   "codemirror_mode": {
    "name": "ipython",
    "version": 3
   },
   "file_extension": ".py",
   "mimetype": "text/x-python",
   "name": "python",
   "nbconvert_exporter": "python",
   "pygments_lexer": "ipython3",
   "version": "3.6.7"
  }
 },
 "nbformat": 4,
 "nbformat_minor": 2
}

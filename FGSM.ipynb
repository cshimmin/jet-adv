{
 "cells": [
  {
   "cell_type": "markdown",
   "metadata": {},
   "source": [
    "This notebook loads a pre-trained PFN network and attacks it with the fast-gradient-sign-method (FGSM).  Additionally, a network is trained that computes a set of high-level observables as a bottleneck in the network:\n",
    "\n",
    "(jet constituents) $\\rightarrow$ (high-level observables) $\\rightarrow$ (fully connected network) $\\rightarrow$ (0,1)\n",
    "\n",
    "In both cases, the attack is performed at the level of jet constituents."
   ]
  },
  {
   "cell_type": "code",
   "execution_count": 1,
   "metadata": {},
   "outputs": [],
   "source": [
    "%load_ext autoreload\n",
    "%autoreload 2"
   ]
  },
  {
   "cell_type": "code",
   "execution_count": 2,
   "metadata": {},
   "outputs": [],
   "source": [
    "import os\n",
    "os.environ['CUDA_VISIBLE_DEVICES'] = '1'\n",
    "\n",
    "import tensorflow as tf\n",
    "config = tf.ConfigProto()\n",
    "config.gpu_options.allow_growth = True\n",
    "session = tf.Session(config=config)"
   ]
  },
  {
   "cell_type": "code",
   "execution_count": 3,
   "metadata": {},
   "outputs": [
    {
     "name": "stderr",
     "output_type": "stream",
     "text": [
      "Using TensorFlow backend.\n"
     ]
    }
   ],
   "source": [
    "import keras\n",
    "import keras.backend as K\n",
    "import keras.layers as layers\n",
    "from keras.models import Model, Sequential\n",
    "from keras.utils import to_categorical\n",
    "from keras import callbacks\n",
    "from keras.layers import Lambda, Dense\n",
    "import itertools as it\n",
    "\n",
    "import numpy as np\n",
    "import matplotlib.pyplot as plt\n",
    "from matplotlib.colors import LogNorm\n",
    "from sklearn.metrics import roc_auc_score\n",
    "from sklearn.metrics import roc_curve\n",
    "\n",
    "import util, defs, models\n",
    "\n",
    "import energyflow as ef\n",
    "from energyflow.archs import PFN"
   ]
  },
  {
   "cell_type": "code",
   "execution_count": 4,
   "metadata": {},
   "outputs": [
    {
     "name": "stdout",
     "output_type": "stream",
     "text": [
      "(124708, 64, 3)\n",
      "(191465, 64, 3)\n"
     ]
    }
   ],
   "source": [
    "bg_consts, sig_consts, bg_jets, sig_jets = util.load_data(path='.', jet_pt_min=0.36, jet_mass_min=0.072)\n",
    "\n",
    "print(bg_consts.shape)\n",
    "print(sig_consts.shape)"
   ]
  },
  {
   "cell_type": "code",
   "execution_count": 5,
   "metadata": {},
   "outputs": [
    {
     "name": "stdout",
     "output_type": "stream",
     "text": [
      "Training set:   (212004, 64, 3)\n",
      "Validation set: (37412, 64, 3)\n"
     ]
    }
   ],
   "source": [
    "(X_train, y_train), (X_val, y_val) = util.format_dataset(bg_consts, sig_consts,\n",
    "                                                         validation_fraction=defs.VALIDATION_FRACTION)\n",
    "\n",
    "print(\"Training set:  \", X_train.shape)\n",
    "print(\"Validation set:\", X_val.shape)"
   ]
  },
  {
   "cell_type": "code",
   "execution_count": 6,
   "metadata": {},
   "outputs": [
    {
     "name": "stdout",
     "output_type": "stream",
     "text": [
      "WARNING:tensorflow:Falling back to exponential-space implementation of einsum() because index \"i\" is summed over more than two inputs.\n",
      "WARNING:tensorflow:Falling back to exponential-space implementation of einsum() because index \"k\" is summed over more than two inputs.\n",
      "WARNING:tensorflow:Falling back to exponential-space implementation of einsum() because index \"i\" is summed over more than two inputs.\n",
      "WARNING:tensorflow:Falling back to exponential-space implementation of einsum() because index \"k\" is summed over more than two inputs.\n"
     ]
    }
   ],
   "source": [
    "benchmark_LL_PFN = keras.models.load_model('v1models/model_benchmark_PFN_64_l64_center_grace.h5',custom_objects={\"tf\":tf,\"CenterJet\":util.CenterJet})\n",
    "benchmark_HL_loaded = keras.models.load_model('v1models/model_benchmark_HL_calc_64.h5',\n",
    "                              custom_objects={'JetVector':util.JetVector,\n",
    "                                              'JetECF':util.JetECF,\n",
    "                                              'tf':tf})"
   ]
  },
  {
   "cell_type": "code",
   "execution_count": 7,
   "metadata": {},
   "outputs": [
    {
     "name": "stdout",
     "output_type": "stream",
     "text": [
      "64\n",
      "WARNING:tensorflow:Falling back to exponential-space implementation of einsum() because index \"i\" is summed over more than two inputs.\n",
      "WARNING:tensorflow:Falling back to exponential-space implementation of einsum() because index \"k\" is summed over more than two inputs.\n",
      "FGSM 1/10...\n",
      "  avg: 0.7489669\n",
      "FGSM 2/10...\n",
      "  avg: 0.7415144\n",
      "FGSM 3/10...\n",
      "  avg: 0.73396075\n",
      "FGSM 4/10...\n",
      "  avg: 0.72632194\n",
      "FGSM 5/10...\n",
      "  avg: 0.71856415\n",
      "FGSM 6/10...\n",
      "  avg: 0.71069664\n",
      "FGSM 7/10...\n",
      "  avg: 0.7027331\n",
      "FGSM 8/10...\n",
      "  avg: 0.69468296\n",
      "FGSM 9/10...\n",
      "  avg: 0.68655616\n",
      "FGSM 10/10...\n",
      "  avg: 0.67833\n",
      "FGSM 1/10...\n",
      "  avg: 0.64491785\n",
      "FGSM 2/10...\n",
      "  avg: 0.63867474\n",
      "FGSM 3/10...\n",
      "  avg: 0.6322316\n",
      "FGSM 4/10...\n",
      "  avg: 0.6256137\n",
      "FGSM 5/10...\n",
      "  avg: 0.61881\n",
      "FGSM 6/10...\n",
      "  avg: 0.61182386\n",
      "FGSM 7/10...\n",
      "  avg: 0.60468644\n",
      "FGSM 8/10...\n",
      "  avg: 0.5974101\n",
      "FGSM 9/10...\n",
      "  avg: 0.58997893\n",
      "FGSM 10/10...\n",
      "  avg: 0.58242446\n"
     ]
    }
   ],
   "source": [
    "def to_categorical_layer(x):\n",
    "    return K.concatenate([1.-x, x], axis=1)\n",
    "\n",
    "tocategorical = Sequential()\n",
    "tocategorical.add(Lambda(to_categorical_layer))\n",
    "\n",
    "AUC_before = []\n",
    "AUC_after = []\n",
    "\n",
    "AUC_HL_before = []\n",
    "AUC_HL_after = []\n",
    "\n",
    "njet_up = 500*3\n",
    "\n",
    "epsilonsPT = (1e-3,0.,0.)\n",
    "epsilonPT = K.reshape(K.constant(epsilonsPT), (1,1,3))\n",
    "\n",
    "epsilonsANGLE = (0.,1e-3,1e-3)\n",
    "epsilonANGLE = K.reshape(K.constant(epsilonsANGLE), (1,1,3))\n",
    "\n",
    "nstep = 10 #100\n",
    "target_class = 1\n",
    "target_name = ['bg', 'signal'][target_class]\n",
    "other_name = ['signal','bg'][target_class]\n",
    "\n",
    "for Nconstits in [64]: #]range(16,65,8):\n",
    "\n",
    "    print(Nconstits)\n",
    "    \n",
    "    ############\n",
    "    def to_upsample(x):\n",
    "        paddings = tf.constant([[0, 0], [0, 64-Nconstits], [0,0]])\n",
    "        tpad = tf.pad(x, paddings, \"CONSTANT\")\n",
    "        return tpad\n",
    "\n",
    "    upsample_network = Sequential()\n",
    "    upsample_network.add(Lambda(to_upsample,input_shape=(Nconstits,3),output_shape=(64,3)))\n",
    "    wrapper_PFN_from_upsample = Model(inputs=upsample_network.input,outputs=tocategorical(benchmark_LL_PFN(upsample_network.output)))\n",
    "\n",
    "    ############\n",
    "\n",
    "    def to_upsample2(x):\n",
    "        paddings = tf.constant([[0, 0], [0, 64-Nconstits], [0,0]])\n",
    "        tpad = tf.pad(x, paddings, \"CONSTANT\")\n",
    "        return tpad\n",
    "\n",
    "    upsample_network2 = Sequential()\n",
    "    upsample_network2.add(Lambda(to_upsample2,input_shape=(Nconstits,3),output_shape=(64,3)))\n",
    "    wrapper_HL_from_upsample = Model(inputs=upsample_network2.input,outputs=tocategorical(benchmark_HL_loaded(upsample_network2.output)))\n",
    "    \n",
    "    ############\n",
    "\n",
    "    x_NN_up = X_val[y_val==target_class][:njet_up][:,0:Nconstits,:]\n",
    "    x_adv_NN_up = x_NN_up.copy()     \n",
    "    \n",
    "    x_NN_up_HL = X_val[y_val==target_class][:njet_up][:,0:Nconstits,:]\n",
    "    x_adv_NN_up_HL = x_NN_up_HL.copy()\n",
    "    \n",
    "    AUC_before+=[roc_auc_score(to_categorical(np.concatenate([y_val[y_val!=target_class],np.ones(len(x_adv_NN_up))]),2), np.concatenate([wrapper_PFN_from_upsample.predict(X_val[:,0:Nconstits,:][y_val!=target_class]),wrapper_PFN_from_upsample.predict(x_adv_NN_up)]))]\n",
    "    AUC_HL_before+=[roc_auc_score(to_categorical(np.concatenate([y_val[y_val!=target_class],np.ones(len(x_adv_NN_up_HL))]),2), np.concatenate([wrapper_HL_from_upsample.predict(X_val[:,0:Nconstits,:][y_val!=target_class]),wrapper_HL_from_upsample.predict(x_adv_NN_up_HL)]))]    \n",
    "\n",
    "    sess = K.get_session()\n",
    "    for istep in range(nstep):\n",
    "        print(\"FGSM %d/%d...\"%(istep+1,nstep))\n",
    "        loss = -1*K.categorical_crossentropy(to_categorical((target_class+1)%2,2), wrapper_PFN_from_upsample.get_output_at(0))\n",
    "        grads = K.gradients(loss, wrapper_PFN_from_upsample.get_input_at(0))\n",
    "        delta = K.sign(grads[0])\n",
    "        delta = tf.multiply(delta,tf.sign(tf.cast(x_NN_up,tf.float32))**2) #don't let it make new constituents\n",
    "        x_adv_NN_up = x_adv_NN_up*(1.+epsilonPT*delta) + epsilonANGLE*delta\n",
    "        x_adv_NN_up = sess.run(x_adv_NN_up, feed_dict={wrapper_PFN_from_upsample.get_input_at(0):x_NN_up})\n",
    "        preds = wrapper_PFN_from_upsample.predict(x_adv_NN_up)[:,target_class]\n",
    "        print(\"  avg:\", preds.mean())\n",
    "        pass\n",
    "    AUC_after+=[roc_auc_score(to_categorical(np.concatenate([y_val[y_val!=target_class],np.ones(len(x_adv_NN_up))]),2), np.concatenate([wrapper_PFN_from_upsample.predict(X_val[:,0:Nconstits,:][y_val!=target_class]),wrapper_PFN_from_upsample.predict(x_adv_NN_up)]))]\n",
    "\n",
    "    sess = K.get_session()\n",
    "    for istep in range(nstep):\n",
    "        print(\"FGSM %d/%d...\"%(istep+1,nstep))\n",
    "        loss = -1*K.categorical_crossentropy(to_categorical((target_class+1)%2,2), wrapper_HL_from_upsample.get_output_at(0))\n",
    "        grads = K.gradients(loss, wrapper_HL_from_upsample.get_input_at(0))\n",
    "        delta = K.sign(grads[0])\n",
    "        delta = tf.multiply(delta,tf.sign(tf.cast(x_NN_up_HL,tf.float32))**2) #don't let it make new constituents\n",
    "        x_adv_NN_up_HL = x_adv_NN_up_HL*(1.+epsilonPT*delta) + epsilonANGLE*delta\n",
    "        x_adv_NN_up_HL = sess.run(x_adv_NN_up_HL, feed_dict={wrapper_HL_from_upsample.get_input_at(0):x_NN_up_HL})\n",
    "        preds = wrapper_HL_from_upsample.predict(x_adv_NN_up_HL)[:,target_class]\n",
    "        print(\"  avg:\", preds.mean())\n",
    "        pass\n",
    "    AUC_HL_after+=[roc_auc_score(to_categorical(np.concatenate([y_val[y_val!=target_class],np.ones(len(x_adv_NN_up_HL))]),2), np.concatenate([wrapper_HL_from_upsample.predict(X_val[:,0:Nconstits,:][y_val!=target_class]),wrapper_HL_from_upsample.predict(x_adv_NN_up_HL)]))]       "
   ]
  },
  {
   "cell_type": "code",
   "execution_count": 8,
   "metadata": {},
   "outputs": [],
   "source": [
    "#Let's add a random pertrubation.\n",
    "Nrandom = len(y_val) #500\n",
    "X_val_random = []\n",
    "y_random = []\n",
    "epsilonsPT = (1e-3,0.,0.)\n",
    "epsilonsANGLE = (0.,1e-3,1e-3)\n",
    "for i in range(Nrandom):\n",
    "    delta = np.reshape(np.random.randint(0,2,64*3)*2-1,[64,3])\n",
    "    X_val_random += [X_val[:,0:64,:][i]*(1.+nstep*delta*epsilonsPT) + nstep*delta*epsilonsANGLE]\n",
    "    y_random += [y_val[i]]\n",
    "    pass\n",
    "y_random = np.array(y_random)\n",
    "X_val_random = np.array(X_val_random)"
   ]
  },
  {
   "cell_type": "code",
   "execution_count": 9,
   "metadata": {},
   "outputs": [],
   "source": [
    "def mymass_numpy(x):\n",
    "    pT,eta,phi=np.split(x,3,axis=2) #axis = 2 because it is a list of particles, then a list of properties per particle\n",
    "    jpx = np.sum(pT*np.cos(phi),axis=1)\n",
    "    jpy = np.sum(pT*np.sin(phi),axis=1)\n",
    "    jpz = np.sum(pT*(0.5*(np.exp(eta)-np.exp(-eta))),axis=1) #no tf.sinh in my version\n",
    "    jpE = np.sum(pT*(0.5*(np.exp(eta)+np.exp(-eta))),axis=1) #no tf.cosh in my version\n",
    "    jet_m2 = jpE**2-jpx**2-jpy**2-jpz**2\n",
    "    jet_mass = np.sqrt(np.where(jet_m2>0,jet_m2,np.zeros_like(jet_m2))) #m\n",
    "    return jet_mass #m\n",
    "def mypT_numpy(x):\n",
    "    pT,eta,phi=np.split(x,3,axis=2) #axis = 2 because it is a list of particles, then a list of properties per particle\n",
    "    jpx = np.sum(pT*np.cos(phi),axis=1)\n",
    "    jpy = np.sum(pT*np.sin(phi),axis=1)\n",
    "    jet_pT2 = jpx**2+jpy**2\n",
    "    jet_pT = np.sqrt(jet_pT2)\n",
    "    return jet_pT #pT"
   ]
  },
  {
   "cell_type": "code",
   "execution_count": 11,
   "metadata": {},
   "outputs": [],
   "source": [
    "jpt_val = mypT_numpy(X_val[:,0:64,:])\n",
    "jpt_adv_HL = mypT_numpy(x_adv_NN_up_HL)\n",
    "jpt_adv_LL = mypT_numpy(x_adv_NN_up)\n",
    "jpt_rnd = mypT_numpy(X_val_random)\n",
    "\n",
    "jmass_val = mymass_numpy(X_val[:,0:64,:])\n",
    "jmass_adv_HL = mymass_numpy(x_adv_NN_up_HL)\n",
    "jmass_adv_LL = mymass_numpy(x_adv_NN_up)\n",
    "jmass_rnd = mymass_numpy(X_val_random)\n",
    "\n",
    "JET_PT_MIN = 0.36*1.1 #saftey margin to allow for migrations\n",
    "JET_MASS_MIN = 0.072*1.1 #saftey margin to allow for migrations\n",
    "\n",
    "pass_val = (jpt_val>JET_PT_MIN)*(jmass_val>JET_MASS_MIN)\n",
    "pass_adv_HL = (jpt_adv_HL>JET_PT_MIN)*(jmass_adv_HL>JET_MASS_MIN)\n",
    "pass_adv_LL = (jpt_adv_LL>JET_PT_MIN)*(jmass_adv_LL>JET_MASS_MIN)\n",
    "pass_rnd = (jpt_rnd>JET_PT_MIN)*(jmass_rnd>JET_MASS_MIN)\n",
    "\n",
    "HL_preds_val = wrapper_HL_from_upsample.predict(X_val[:,0:64,:])\n",
    "HL_preds_adv = wrapper_HL_from_upsample.predict(x_adv_NN_up_HL)\n",
    "HL_preds_rnd = wrapper_HL_from_upsample.predict(X_val_random)\n",
    "\n",
    "LL_preds_val = wrapper_PFN_from_upsample.predict(X_val[:,0:64,:])\n",
    "LL_preds_adv = wrapper_PFN_from_upsample.predict(x_adv_NN_up)\n",
    "LL_preds_rnd = wrapper_PFN_from_upsample.predict(X_val_random)"
   ]
  },
  {
   "cell_type": "code",
   "execution_count": 14,
   "metadata": {},
   "outputs": [
    {
     "name": "stdout",
     "output_type": "stream",
     "text": [
      "HL...\n",
      "LL...\n"
     ]
    }
   ],
   "source": [
    "nsig_total = np.sum((y_val==1)*pass_val[:,0])\n",
    "nsig_total_adv_HL = np.sum(pass_adv_HL[:,0])\n",
    "nsig_total_adv_LL = np.sum(pass_adv_LL[:,0])\n",
    "nbg_total = np.sum((y_val==0)*pass_val[:,0])\n",
    "\n",
    "T = np.linspace(0,0.99,100)\n",
    "Tl = range(len(T))\n",
    "\n",
    "print(\"HL...\")\n",
    "HL_nsig_before = [sum(HL_preds_val[(y_val==1)*pass_val[:,0]][:,1] > T[i]) for i in Tl]/nsig_total\n",
    "HL_nbg_before = [sum(HL_preds_val[(y_val==0)*pass_val[:,0]][:,1] > T[i]) for i in Tl]/nbg_total\n",
    "HL_nsig_after = np.array([sum(HL_preds_adv[pass_adv_HL[:,0]][:,1] > T[i]) for i in Tl])/nsig_total_adv_HL\n",
    "HL_nbg_after = HL_nbg_before\n",
    "HL_nsig_rnd = [sum(HL_preds_rnd[(y_val==1)*pass_rnd[:,0]][:,1] > T[i]) for i in Tl]/nsig_total\n",
    "HL_nbg_rnd = [sum(HL_preds_rnd[(y_val==0)*pass_rnd[:,0]][:,1] > T[i]) for i in Tl]/nbg_total\n",
    "\n",
    "print(\"LL...\")\n",
    "LL_nsig_before = [sum(LL_preds_val[(y_val==1)*pass_val[:,0]][:,1] > T[i]) for i in Tl]/nsig_total\n",
    "LL_nbg_before = [sum(LL_preds_val[(y_val==0)*pass_val[:,0]][:,1] > T[i]) for i in Tl]/nbg_total\n",
    "LL_nsig_after = np.array([sum(LL_preds_adv[pass_adv_LL[:,0]][:,1] > T[i]) for i in Tl])/nsig_total_adv_LL\n",
    "LL_nbg_after = LL_nbg_before\n",
    "LL_nsig_rnd = [sum(LL_preds_rnd[(y_val==1)*pass_rnd[:,0]][:,1] > T[i]) for i in Tl]/nsig_total\n",
    "LL_nbg_rnd = [sum(LL_preds_rnd[(y_val==0)*pass_rnd[:,0]][:,1] > T[i]) for i in Tl]/nbg_total"
   ]
  },
  {
   "cell_type": "code",
   "execution_count": 15,
   "metadata": {},
   "outputs": [
    {
     "name": "stderr",
     "output_type": "stream",
     "text": [
      "/home/bpnachman/anaconda3/envs/myenv/lib/python3.6/site-packages/ipykernel_launcher.py:1: RuntimeWarning: divide by zero encountered in true_divide\n",
      "  \"\"\"Entry point for launching an IPython kernel.\n",
      "/home/bpnachman/anaconda3/envs/myenv/lib/python3.6/site-packages/ipykernel_launcher.py:1: RuntimeWarning: invalid value encountered in true_divide\n",
      "  \"\"\"Entry point for launching an IPython kernel.\n",
      "/home/bpnachman/anaconda3/envs/myenv/lib/python3.6/site-packages/ipykernel_launcher.py:2: RuntimeWarning: invalid value encountered in true_divide\n",
      "  \n",
      "/home/bpnachman/anaconda3/envs/myenv/lib/python3.6/site-packages/ipykernel_launcher.py:3: RuntimeWarning: divide by zero encountered in true_divide\n",
      "  This is separate from the ipykernel package so we can avoid doing imports until\n",
      "/home/bpnachman/anaconda3/envs/myenv/lib/python3.6/site-packages/ipykernel_launcher.py:3: RuntimeWarning: invalid value encountered in true_divide\n",
      "  This is separate from the ipykernel package so we can avoid doing imports until\n"
     ]
    }
   ],
   "source": [
    "hl_sig_exp = HL_nsig_before/HL_nbg_before**0.5\n",
    "hl_sig_obs = HL_nsig_after/HL_nbg_after**0.5\n",
    "hl_sig_rnd = HL_nsig_rnd/HL_nbg_rnd**0.5\n",
    "\n",
    "pfn_sig_exp = LL_nsig_before/LL_nbg_before**0.5\n",
    "pfn_sig_obs = LL_nsig_after/LL_nbg_after**0.5\n",
    "pfn_sig_rnd = LL_nsig_rnd/LL_nbg_rnd**0.5"
   ]
  },
  {
   "cell_type": "code",
   "execution_count": 69,
   "metadata": {},
   "outputs": [
    {
     "data": {
      "image/png": "[encoded data removed]",
      "text/plain": [
       "<Figure size 576x288 with 1 Axes>"
      ]
     },
     "metadata": {
      "needs_background": "light"
     },
     "output_type": "display_data"
    }
   ],
   "source": [
    "from matplotlib.lines import Line2D\n",
    "custom_lines = [Line2D([0], [0], color='gray'),\n",
    "                Line2D([0], [0], color='gray', ls='--'),\n",
    "                Line2D([0], [0], color='gray', ls=':'),\n",
    "               ]\n",
    "\n",
    "plt.figure(figsize=(8,4))\n",
    "\n",
    "l1, = plt.plot(T, pfn_sig_exp, color='darkorange', label=r'Low-level')\n",
    "plt.plot(T, pfn_sig_obs, color='darkorange', ls='--')\n",
    "plt.plot(T, pfn_sig_rnd, color='darkorange', ls=':')\n",
    "\n",
    "plt.axvline(T[np.argmax(pfn_sig_exp)], ls='-', color='slategray', zorder=-1, lw=1)\n",
    "\n",
    "l4, = plt.plot(T, hl_sig_exp, color='blue', label='High-level')\n",
    "plt.plot(T, hl_sig_obs, color='blue', ls='--')\n",
    "plt.plot(T, hl_sig_rnd, color='blue', ls=':')\n",
    "\n",
    "plt.ylabel(\"Relative Discovery Significance\")\n",
    "plt.xlabel(\"Classifier Threshold\")\n",
    "first_legend = plt.legend(handles=[l1,l4], loc='upper left');\n",
    "plt.gca().add_artist(first_legend)\n",
    "plt.legend(custom_lines, ['Expected','Observed', 'Random'], loc='lower center', ncol=3);\n",
    "plt.savefig(\"signif_undertraining_FGSM.pdf\", bbox_inches='tight')"
   ]
  },
  {
   "cell_type": "code",
   "execution_count": 19,
   "metadata": {},
   "outputs": [],
   "source": [
    "def ecf_numpy(N, beta, x, normalized=False):\n",
    "    pt = x[:,:,0]\n",
    "    eta = x[:,:,1:2]\n",
    "    phi = x[:,:,2:]\n",
    "\n",
    "    if N == 0:\n",
    "        return np.ones(x.shape[0])\n",
    "    elif N == 1:\n",
    "        if normalized:\n",
    "            return np.ones(x.shape[0])\n",
    "        else:\n",
    "            return np.sum(pt, axis=-1)\n",
    "    \n",
    "    # pre-compute the R_ij matrix\n",
    "    R = np.concatenate([np.sqrt((eta[:,i:i+1]-eta)**2+(phi[:,i:i+1]-phi)**2) for i in range(x.shape[1])], axis=-1)\n",
    "    # note, if dR = 0, these are either diagonal or padded entries that will get killed by pT=0 terms.\n",
    "    # set these entries to some positive number to avoid divide-by-zero when beta<0\n",
    "    R = np.clip(R, 1e-6, 999)\n",
    "    \n",
    "    # and raise it to the beta power for use in the product expression\n",
    "    R_beta = R**beta\n",
    "    \n",
    "    # indexing tensor, returns 1 if i>j>k...\n",
    "    eps = np.zeros((x.shape[1],)*N)\n",
    "    for idx in it.combinations(range(x.shape[1]), r=N):\n",
    "        eps[idx] = 1\n",
    "        \n",
    "    if N == 2:\n",
    "        result = np.einsum('ij,...i,...j,...ij',eps,pt,pt,R_beta)\n",
    "    elif N == 3:\n",
    "        result =  np.einsum('ijk,...i,...j,...k,...ij,...ik,...jk',eps,pt,pt,pt,R_beta,R_beta,R_beta)\n",
    "    else:\n",
    "        # just for fun, the general case...\n",
    "        # use ascii chars a...z for einsum indices\n",
    "        letters = [chr(asc) for asc in range(97,97+N)]\n",
    "        idx_expression = ''.join(letters) +',' + ','.join('...%s'%c for c in letters)\n",
    "        for a,b in it.combinations(letters, r=2):\n",
    "            idx_expression += ',...%s%s'%(a,b)\n",
    "        #print(idx_expression)\n",
    "        args = (eps,) + (pt,)*N + (R_beta,)*(N*(N-1)//2)\n",
    "        result = np.einsum(idx_expression, *args)\n",
    "\n",
    "    if normalized:\n",
    "        result = result / ecf_numpy(1,beta,x,normalized=False)**N\n",
    "\n",
    "    return result"
   ]
  },
  {
   "cell_type": "code",
   "execution_count": 39,
   "metadata": {},
   "outputs": [],
   "source": [
    "ecf1_val = ecf_numpy(1, 2, X_val, normalized=False)\n",
    "ecf2_val = ecf_numpy(2, 2, X_val, normalized=False) + K.epsilon()\n",
    "ecf3_val = ecf_numpy(3, 2, X_val, normalized=False)"
   ]
  },
  {
   "cell_type": "code",
   "execution_count": 40,
   "metadata": {},
   "outputs": [],
   "source": [
    "d2_val = ecf3_val * pow(ecf1_val, 3) / pow(ecf2_val, 3)"
   ]
  },
  {
   "cell_type": "code",
   "execution_count": 41,
   "metadata": {},
   "outputs": [],
   "source": [
    "ecf1_val_adv = ecf_numpy(1, 2, x_adv_NN_up, normalized=False)\n",
    "ecf2_val_adv = ecf_numpy(2, 2, x_adv_NN_up, normalized=False) + K.epsilon()\n",
    "ecf3_val_adv = ecf_numpy(3, 2, x_adv_NN_up, normalized=False)\n",
    "\n",
    "ecf1_val_adv_HL = ecf_numpy(1, 2, x_adv_NN_up_HL, normalized=False)\n",
    "ecf2_val_adv_HL = ecf_numpy(2, 2, x_adv_NN_up_HL, normalized=False) + K.epsilon()\n",
    "ecf3_val_adv_HL = ecf_numpy(3, 2, x_adv_NN_up_HL, normalized=False)"
   ]
  },
  {
   "cell_type": "code",
   "execution_count": 42,
   "metadata": {},
   "outputs": [],
   "source": [
    "d2_val_adv = ecf3_val_adv * pow(ecf1_val_adv, 3) / pow(ecf2_val_adv, 3)\n",
    "d2_val_adv_HL = ecf3_val_adv_HL * pow(ecf1_val_adv_HL, 3) / pow(ecf2_val_adv_HL, 3)"
   ]
  },
  {
   "cell_type": "code",
   "execution_count": 72,
   "metadata": {},
   "outputs": [
    {
     "data": {
      "image/png": "[encoded data removed]",
      "text/plain": [
       "<Figure size 576x288 with 1 Axes>"
      ]
     },
     "metadata": {
      "needs_background": "light"
     },
     "output_type": "display_data"
    },
    {
     "data": {
      "image/png": "[encoded data removed]",
      "text/plain": [
       "<Figure size 576x288 with 1 Axes>"
      ]
     },
     "metadata": {
      "needs_background": "light"
     },
     "output_type": "display_data"
    },
    {
     "data": {
      "image/png": "[encoded data removed]",
      "text/plain": [
       "<Figure size 576x288 with 1 Axes>"
      ]
     },
     "metadata": {
      "needs_background": "light"
     },
     "output_type": "display_data"
    },
    {
     "data": {
      "image/png": "[encoded data removed]",
      "text/plain": [
       "<Figure size 576x288 with 1 Axes>"
      ]
     },
     "metadata": {
      "needs_background": "light"
     },
     "output_type": "display_data"
    },
    {
     "data": {
      "image/png": "[encoded data removed]",
      "text/plain": [
       "<Figure size 576x288 with 1 Axes>"
      ]
     },
     "metadata": {
      "needs_background": "light"
     },
     "output_type": "display_data"
    }
   ],
   "source": [
    "from matplotlib.lines import Line2D\n",
    "from matplotlib.patches import Patch\n",
    "category_styles = [Line2D([0], [0], color='blue', label='background'),\n",
    "                Line2D([0], [0], color='darkorange', label='signal'),\n",
    "               ]\n",
    "adv_styles = [Patch(facecolor='gray', alpha=0.2, label='unperturbed'),\n",
    "              Line2D([0],[0], color='gray', label='HL perturbed', ls='--'),\n",
    "              Line2D([0],[0], color='gray', label='LL pertrubed'),\n",
    "               ]\n",
    "\n",
    "mypass_vals = ((jpt_val>0.36)&(jmass_val>0.072))[:,0]\n",
    "\n",
    "density=True\n",
    "\n",
    "figsize=(8,4)\n",
    "\n",
    "plt.figure(figsize=figsize)\n",
    "b = np.linspace(0,1,21)\n",
    "plt.hist(HL_preds_val[(mypass_vals)*(y_val==0)][:,1], color='blue', bins=b, alpha=0.2, density=density);\n",
    "plt.hist(HL_preds_val[(mypass_vals)*(y_val==1)][:,1], color='darkorange', bins=b, alpha=0.2, density=density)\n",
    "plt.hist(HL_preds_adv[:,1], color='darkorange', bins=b, histtype='step', ls='--', density=density);\n",
    "plt.hist(HL_preds_val[(mypass_vals)*(y_val==0)][:,1], color='blue', bins=b, ls='--', density=density,histtype='step');\n",
    "\n",
    "plt.yticks([0,])\n",
    "\n",
    "l1 = plt.legend(handles=category_styles, loc='upper center', ncol=2)\n",
    "plt.gca().add_artist(l1)\n",
    "plt.legend(handles=adv_styles, bbox_to_anchor=(0., 1.02, 1., .102), loc='lower left',\n",
    "           ncol=3, mode=\"expand\", borderaxespad=0.)\n",
    "\n",
    "plt.xlabel(\"HL classifier response\")\n",
    "plt.ylabel(\"A.U.\")\n",
    "\n",
    "plt.savefig('adv_compare_HL_cls_FGSM.pdf', bbox_inches='tight')\n",
    "\n",
    "plt.figure(figsize=figsize)\n",
    "b = np.linspace(0,1,21)\n",
    "plt.hist(LL_preds_val[(mypass_vals)*(y_val==0)][:,1], bins=b, color='blue', alpha=0.2, density=density);\n",
    "plt.hist(LL_preds_val[(mypass_vals)*(y_val==1)][:,1], bins=b, color='darkorange', alpha=0.2, density=density)\n",
    "plt.hist(LL_preds_val[(mypass_vals)*(y_val==0)][:,1], bins=b, color='blue', density=density,histtype='step');\n",
    "plt.hist(LL_preds_adv[:,1], bins=b, color='darkorange', histtype='step', density=density);\n",
    "\n",
    "plt.yticks([0,])\n",
    "\n",
    "l1 = plt.legend(handles=category_styles, loc='upper center', ncol=2)\n",
    "plt.gca().add_artist(l1)\n",
    "plt.legend(handles=adv_styles, bbox_to_anchor=(0., 1.02, 1., .102), loc='lower left',\n",
    "           ncol=3, mode=\"expand\", borderaxespad=0.)\n",
    "\n",
    "plt.xlabel(\"LL classifier response\")\n",
    "plt.ylabel(\"A.U.\")\n",
    "\n",
    "plt.savefig('adv_compare_LL_cls_FGSM.pdf', bbox_inches='tight')\n",
    "\n",
    "plt.figure(figsize=figsize)\n",
    "b = np.linspace(350,525,21)\n",
    "plt.hist(jpt_val[(mypass_vals)*(y_val==0)]*1e3, bins=b, color='blue', alpha=0.2, density=density);\n",
    "plt.hist(jpt_val[(mypass_vals)*(y_val==1)]*1e3, bins=b, color='darkorange', alpha=0.2, density=density)\n",
    "plt.hist(jpt_adv_HL*1e3, bins=b, color='darkorange', histtype='step', ls='--', density=density);\n",
    "plt.hist(jpt_adv_LL*1e3, bins=b, color='darkorange', histtype='step', density=density);\n",
    "plt.hist(jpt_val[(mypass_vals)*(y_val==0)]*1e3, bins=b, color='blue', histtype='step', density=density);\n",
    "\n",
    "plt.yticks([0,])\n",
    "\n",
    "l1 = plt.legend(handles=category_styles, loc='upper right', ncol=2)\n",
    "plt.gca().add_artist(l1)\n",
    "plt.legend(handles=adv_styles, bbox_to_anchor=(0., 1.02, 1., .102), loc='lower left',\n",
    "           ncol=3, mode=\"expand\", borderaxespad=0.)\n",
    "\n",
    "plt.xlabel(r\"Jet $p_\\mathrm{T}$ [GeV]\")\n",
    "plt.ylabel(\"A.U.\")\n",
    "\n",
    "plt.savefig('adv_compare_jpt_cls_FGSM.pdf', bbox_inches='tight')\n",
    "\n",
    "plt.figure(figsize=figsize)\n",
    "b = np.linspace(60,220,21)\n",
    "plt.hist(jmass_val[(mypass_vals)*(y_val==0)]*1e3, bins=b, color='blue', alpha=0.2, density=density);\n",
    "plt.hist(jmass_val[(mypass_vals)*(y_val==1)]*1e3, bins=b, color='darkorange', alpha=0.2, density=density)\n",
    "plt.hist(jmass_adv_HL*1e3, bins=b, color='darkorange', histtype='step', ls='--', density=density);\n",
    "plt.hist(jmass_adv_LL*1e3, bins=b, color='darkorange', histtype='step', density=density);\n",
    "plt.hist(jmass_val[(mypass_vals)*(y_val==0)]*1e3, bins=b, color='blue', histtype='step', density=density);\n",
    "\n",
    "plt.yticks([0,])\n",
    "\n",
    "l1 = plt.legend(handles=category_styles, loc='upper right', ncol=2)\n",
    "plt.gca().add_artist(l1)\n",
    "plt.legend(handles=adv_styles, bbox_to_anchor=(0., 1.02, 1., .102), loc='lower left',\n",
    "           ncol=3, mode=\"expand\", borderaxespad=0.);\n",
    "\n",
    "plt.xlabel(r\"Jet mass [GeV]\")\n",
    "plt.ylabel(\"A.U.\");\n",
    "\n",
    "plt.savefig('adv_compare_jmass_cls_FGSM.pdf', bbox_inches='tight')\n",
    "\n",
    "plt.figure(figsize=figsize)\n",
    "b = np.linspace(0,10,21)\n",
    "d2scale=1.\n",
    "plt.hist(d2_val[(mypass_vals)*(y_val==0)], bins=b, color='blue', alpha=0.2, density=density);\n",
    "plt.hist(d2_val[(mypass_vals)*(y_val==1)], bins=b, color='darkorange', alpha=0.2, density=density)\n",
    "plt.hist(d2_val_adv_HL, bins=b, color='darkorange', histtype='step', ls='--', density=density);\n",
    "plt.hist(d2_val_adv, bins=b, color='darkorange', histtype='step', density=density);\n",
    "plt.hist(d2_val[(mypass_vals)*(y_val==0)], bins=b, color='blue', histtype='step', density=density);\n",
    "\n",
    "plt.yticks([0,])\n",
    "\n",
    "l1 = plt.legend(handles=category_styles, loc='upper right', ncol=2)\n",
    "plt.gca().add_artist(l1)\n",
    "plt.legend(handles=adv_styles, bbox_to_anchor=(0., 1.02, 1., .102), loc='lower left',\n",
    "           ncol=3, mode=\"expand\", borderaxespad=0.);\n",
    "\n",
    "plt.xlabel(r\"Jet $D_2^{(\\beta=2)}$\")\n",
    "plt.ylabel(\"A.U.\");\n",
    "\n",
    "plt.savefig('adv_compare_jd2_cls_FGSM.pdf', bbox_inches='tight')"
   ]
  },
  {
   "cell_type": "code",
   "execution_count": null,
   "metadata": {},
   "outputs": [],
   "source": []
  }
 ],
 "metadata": {
  "kernelspec": {
   "display_name": "Python 3",
   "language": "python",
   "name": "python3"
  },
  "language_info": {
   "codemirror_mode": {
    "name": "ipython",
    "version": 3
   },
   "file_extension": ".py",
   "mimetype": "text/x-python",
   "name": "python",
   "nbconvert_exporter": "python",
   "pygments_lexer": "ipython3",
   "version": "3.7.3"
  }
 },
 "nbformat": 4,
 "nbformat_minor": 2
}

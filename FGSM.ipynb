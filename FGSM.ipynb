{
 "cells": [
  {
   "cell_type": "markdown",
   "metadata": {},
   "source": [
    "This notebook loads a pre-trained PFN network and attacks it with the fast-gradient-sign-method (FGSM).  Additionally, a network is trained that computes a set of high-level observables as a bottleneck in the network:\n",
    "\n",
    "(jet constituents) $\\rightarrow$ (high-level observables) $\\rightarrow$ (fully connected network) $\\rightarrow$ (0,1)\n",
    "\n",
    "In both cases, the attack is performed at the level of jet constituents."
   ]
  },
  {
   "cell_type": "code",
   "execution_count": 1,
   "metadata": {},
   "outputs": [],
   "source": [
    "%load_ext autoreload\n",
    "%autoreload 2"
   ]
  },
  {
   "cell_type": "code",
   "execution_count": 2,
   "metadata": {},
   "outputs": [],
   "source": [
    "import os\n",
    "os.environ['CUDA_VISIBLE_DEVICES'] = '1'\n",
    "\n",
    "import tensorflow as tf\n",
    "config = tf.ConfigProto()\n",
    "config.gpu_options.allow_growth = True\n",
    "session = tf.Session(config=config)"
   ]
  },
  {
   "cell_type": "code",
   "execution_count": 3,
   "metadata": {},
   "outputs": [
    {
     "name": "stderr",
     "output_type": "stream",
     "text": [
      "Using TensorFlow backend.\n"
     ]
    }
   ],
   "source": [
    "import keras\n",
    "import keras.backend as K\n",
    "import keras.layers as layers\n",
    "from keras.models import Model\n",
    "from keras.utils import to_categorical\n",
    "from keras import callbacks"
   ]
  },
  {
   "cell_type": "code",
   "execution_count": 4,
   "metadata": {},
   "outputs": [],
   "source": [
    "import numpy as np\n",
    "import matplotlib.pyplot as plt\n",
    "from matplotlib.colors import LogNorm\n",
    "from sklearn.metrics import roc_auc_score"
   ]
  },
  {
   "cell_type": "code",
   "execution_count": 5,
   "metadata": {},
   "outputs": [],
   "source": [
    "import util, defs, models"
   ]
  },
  {
   "cell_type": "code",
   "execution_count": 6,
   "metadata": {},
   "outputs": [],
   "source": [
    "import energyflow as ef\n",
    "from energyflow.archs import PFN"
   ]
  },
  {
   "cell_type": "code",
   "execution_count": 7,
   "metadata": {},
   "outputs": [
    {
     "name": "stdout",
     "output_type": "stream",
     "text": [
      "(118293, 96, 3)\n",
      "(78604, 96, 3)\n"
     ]
    }
   ],
   "source": [
    "bg_consts, sig_consts, bg_jets, sig_jets = util.load_data()\n",
    "    \n",
    "print(bg_consts.shape)\n",
    "print(sig_consts.shape)"
   ]
  },
  {
   "cell_type": "code",
   "execution_count": 8,
   "metadata": {},
   "outputs": [
    {
     "name": "stdout",
     "output_type": "stream",
     "text": [
      "Training set:   (133628, 96, 3)\n",
      "Validation set: (23580, 96, 3)\n"
     ]
    }
   ],
   "source": [
    "(X_train, y_train), (X_val, y_val) = util.format_dataset(bg_consts, sig_consts,\n",
    "                                                         validation_fraction=defs.VALIDATION_FRACTION)\n",
    "\n",
    "print(\"Training set:  \", X_train.shape)\n",
    "print(\"Validation set:\", X_val.shape)"
   ]
  },
  {
   "cell_type": "code",
   "execution_count": 9,
   "metadata": {},
   "outputs": [],
   "source": [
    "K.clear_session()"
   ]
  },
  {
   "cell_type": "code",
   "execution_count": 10,
   "metadata": {},
   "outputs": [],
   "source": [
    "benchmark_LL_PFN = keras.models.load_model('model_benchmark_PFN.h5',custom_objects={\"tf\":tf})"
   ]
  },
  {
   "cell_type": "code",
   "execution_count": 11,
   "metadata": {},
   "outputs": [
    {
     "name": "stdout",
     "output_type": "stream",
     "text": [
      "Validation AUC: 0.8160260632600046\n"
     ]
    }
   ],
   "source": [
    "print(\"Validation AUC:\", roc_auc_score(y_val, benchmark_LL_PFN.predict(X_val)))"
   ]
  },
  {
   "cell_type": "code",
   "execution_count": 12,
   "metadata": {},
   "outputs": [],
   "source": [
    "benchmark_LL_PFN2 = keras.models.load_model('model_benchmark_PFN.h5',custom_objects={\"tf\":tf})"
   ]
  },
  {
   "cell_type": "code",
   "execution_count": 15,
   "metadata": {},
   "outputs": [],
   "source": [
    "#The model has a one-node output; it was easier for the FGSM to make it a two-node output\n",
    "#(e.g. as if trained with categorical cross-entropy)\n",
    "\n",
    "from keras.layers import Lambda\n",
    "from keras.models import Sequential\n",
    "def to_categorical_layer(x):\n",
    "    return K.concatenate([1.-x, x], axis=1)\n",
    "\n",
    "intermediatebit = Sequential()\n",
    "intermediatebit.add(Lambda(to_categorical_layer))\n",
    "\n",
    "wrapper = Model(inputs=benchmark_LL_PFN2.input,outputs=intermediatebit(benchmark_LL_PFN2.output))"
   ]
  },
  {
   "cell_type": "code",
   "execution_count": 16,
   "metadata": {},
   "outputs": [
    {
     "name": "stdout",
     "output_type": "stream",
     "text": [
      "_________________________________________________________________\n",
      "Layer (type)                 Output Shape              Param #   \n",
      "=================================================================\n",
      "input_1 (InputLayer)         (None, 96, 3)             0         \n",
      "_________________________________________________________________\n",
      "lambda_1 (Lambda)            (None, 96, 4)             0         \n",
      "_________________________________________________________________\n",
      "model_1 (Model)              (None, 1)                 462081    \n",
      "_________________________________________________________________\n",
      "sequential_1 (Sequential)    (None, 2)                 0         \n",
      "=================================================================\n",
      "Total params: 462,081\n",
      "Trainable params: 462,081\n",
      "Non-trainable params: 0\n",
      "_________________________________________________________________\n"
     ]
    }
   ],
   "source": [
    "wrapper.summary()"
   ]
  },
  {
   "cell_type": "markdown",
   "metadata": {},
   "source": [
    "Now time for FGSM"
   ]
  },
  {
   "cell_type": "code",
   "execution_count": 24,
   "metadata": {},
   "outputs": [],
   "source": [
    "njet = 6000\n",
    "target_class = 1\n",
    "\n",
    "use_sign = True\n",
    "\n",
    "target_name = ['bg', 'signal'][target_class]\n",
    "other_name = ['signal','bg'][target_class]\n",
    "\n",
    "x_NN = X_val[y_val==target_class][:njet]\n",
    "x_adv_NN = x_NN.copy()\n",
    "x_noise_NN = np.zeros_like(x_NN)\n",
    "\n",
    "prediction_history_NN     = [wrapper.predict(x_NN)[:,target_class].mean()]\n",
    "prediction_history_quant_NN = [np.percentile(wrapper.predict(x_NN)[:,target_class],100*np.array([0.5,0.68,0.95]))]"
   ]
  },
  {
   "cell_type": "code",
   "execution_count": 25,
   "metadata": {},
   "outputs": [
    {
     "name": "stdout",
     "output_type": "stream",
     "text": [
      "FGSM 1/100...\n",
      "  avg: 0.65195006\n",
      "FGSM 2/100...\n",
      "  avg: 0.65142393\n",
      "FGSM 3/100...\n",
      "  avg: 0.6508999\n",
      "FGSM 4/100...\n",
      "  avg: 0.65037733\n",
      "FGSM 5/100...\n",
      "  avg: 0.64985603\n",
      "FGSM 6/100...\n",
      "  avg: 0.6493368\n",
      "FGSM 7/100...\n",
      "  avg: 0.6488188\n",
      "FGSM 8/100...\n",
      "  avg: 0.6483026\n",
      "FGSM 9/100...\n",
      "  avg: 0.64778876\n",
      "FGSM 10/100...\n",
      "  avg: 0.6472783\n",
      "FGSM 11/100...\n",
      "  avg: 0.64677024\n",
      "FGSM 12/100...\n",
      "  avg: 0.6462653\n",
      "FGSM 13/100...\n",
      "  avg: 0.6457637\n",
      "FGSM 14/100...\n",
      "  avg: 0.6452644\n",
      "FGSM 15/100...\n",
      "  avg: 0.644768\n",
      "FGSM 16/100...\n",
      "  avg: 0.6442742\n",
      "FGSM 17/100...\n",
      "  avg: 0.6437819\n",
      "FGSM 18/100...\n",
      "  avg: 0.6432916\n",
      "FGSM 19/100...\n",
      "  avg: 0.64280427\n",
      "FGSM 20/100...\n",
      "  avg: 0.64231956\n",
      "FGSM 21/100...\n",
      "  avg: 0.64183694\n",
      "FGSM 22/100...\n",
      "  avg: 0.6413566\n",
      "FGSM 23/100...\n",
      "  avg: 0.6408789\n",
      "FGSM 24/100...\n",
      "  avg: 0.6404034\n",
      "FGSM 25/100...\n",
      "  avg: 0.6399298\n",
      "FGSM 26/100...\n",
      "  avg: 0.63945764\n",
      "FGSM 27/100...\n",
      "  avg: 0.63898677\n",
      "FGSM 28/100...\n",
      "  avg: 0.63851714\n",
      "FGSM 29/100...\n",
      "  avg: 0.63804966\n",
      "FGSM 30/100...\n",
      "  avg: 0.6375839\n",
      "FGSM 31/100...\n",
      "  avg: 0.63712\n",
      "FGSM 32/100...\n",
      "  avg: 0.636657\n",
      "FGSM 33/100...\n",
      "  avg: 0.6361952\n",
      "FGSM 34/100...\n",
      "  avg: 0.6357352\n",
      "FGSM 35/100...\n",
      "  avg: 0.6352778\n",
      "FGSM 36/100...\n",
      "  avg: 0.63482237\n",
      "FGSM 37/100...\n",
      "  avg: 0.63436806\n",
      "FGSM 38/100...\n",
      "  avg: 0.63391536\n",
      "FGSM 39/100...\n",
      "  avg: 0.63346493\n",
      "FGSM 40/100...\n",
      "  avg: 0.6330158\n",
      "FGSM 41/100...\n",
      "  avg: 0.6325681\n",
      "FGSM 42/100...\n",
      "  avg: 0.6321228\n",
      "FGSM 43/100...\n",
      "  avg: 0.63167953\n",
      "FGSM 44/100...\n",
      "  avg: 0.6312377\n",
      "FGSM 45/100...\n",
      "  avg: 0.6307974\n",
      "FGSM 46/100...\n",
      "  avg: 0.630358\n",
      "FGSM 47/100...\n",
      "  avg: 0.6299202\n",
      "FGSM 48/100...\n",
      "  avg: 0.6294852\n",
      "FGSM 49/100...\n",
      "  avg: 0.629052\n",
      "FGSM 50/100...\n",
      "  avg: 0.62862027\n",
      "FGSM 51/100...\n",
      "  avg: 0.6281906\n",
      "FGSM 52/100...\n",
      "  avg: 0.62776244\n",
      "FGSM 53/100...\n",
      "  avg: 0.62733686\n",
      "FGSM 54/100...\n",
      "  avg: 0.62691295\n",
      "FGSM 55/100...\n",
      "  avg: 0.6264911\n",
      "FGSM 56/100...\n",
      "  avg: 0.6260716\n",
      "FGSM 57/100...\n",
      "  avg: 0.6256536\n",
      "FGSM 58/100...\n",
      "  avg: 0.6252373\n",
      "FGSM 59/100...\n",
      "  avg: 0.62482196\n",
      "FGSM 60/100...\n",
      "  avg: 0.6244073\n",
      "FGSM 61/100...\n",
      "  avg: 0.6239934\n",
      "FGSM 62/100...\n",
      "  avg: 0.6235819\n",
      "FGSM 63/100...\n",
      "  avg: 0.62317324\n",
      "FGSM 64/100...\n",
      "  avg: 0.62276626\n",
      "FGSM 65/100...\n",
      "  avg: 0.62236035\n",
      "FGSM 66/100...\n",
      "  avg: 0.6219556\n",
      "FGSM 67/100...\n",
      "  avg: 0.6215532\n",
      "FGSM 68/100...\n",
      "  avg: 0.6211532\n",
      "FGSM 69/100...\n",
      "  avg: 0.6207556\n",
      "FGSM 70/100...\n",
      "  avg: 0.6203593\n",
      "FGSM 71/100...\n",
      "  avg: 0.61996454\n",
      "FGSM 72/100...\n",
      "  avg: 0.6195706\n",
      "FGSM 73/100...\n",
      "  avg: 0.6191781\n",
      "FGSM 74/100...\n",
      "  avg: 0.6187873\n",
      "FGSM 75/100...\n",
      "  avg: 0.6183986\n",
      "FGSM 76/100...\n",
      "  avg: 0.6180115\n",
      "FGSM 77/100...\n",
      "  avg: 0.61762625\n",
      "FGSM 78/100...\n",
      "  avg: 0.61724216\n",
      "FGSM 79/100...\n",
      "  avg: 0.6168589\n",
      "FGSM 80/100...\n",
      "  avg: 0.6164767\n",
      "FGSM 81/100...\n",
      "  avg: 0.6160962\n",
      "FGSM 82/100...\n",
      "  avg: 0.6157174\n",
      "FGSM 83/100...\n",
      "  avg: 0.6153408\n",
      "FGSM 84/100...\n",
      "  avg: 0.6149659\n",
      "FGSM 85/100...\n",
      "  avg: 0.6145926\n",
      "FGSM 86/100...\n",
      "  avg: 0.61422116\n",
      "FGSM 87/100...\n",
      "  avg: 0.6138515\n",
      "FGSM 88/100...\n",
      "  avg: 0.61348397\n",
      "FGSM 89/100...\n",
      "  avg: 0.6131186\n",
      "FGSM 90/100...\n",
      "  avg: 0.6127544\n",
      "FGSM 91/100...\n",
      "  avg: 0.61239207\n",
      "FGSM 92/100...\n",
      "  avg: 0.6120315\n",
      "FGSM 93/100...\n",
      "  avg: 0.61167204\n",
      "FGSM 94/100...\n",
      "  avg: 0.6113136\n",
      "FGSM 95/100...\n",
      "  avg: 0.61095625\n",
      "FGSM 96/100...\n",
      "  avg: 0.6106003\n",
      "FGSM 97/100...\n",
      "  avg: 0.6102458\n",
      "FGSM 98/100...\n",
      "  avg: 0.60989267\n",
      "FGSM 99/100...\n",
      "  avg: 0.6095419\n",
      "FGSM 100/100...\n",
      "  avg: 0.6091927\n"
     ]
    }
   ],
   "source": [
    "#epsilons = (2e-4,2e-3,2e-3)\n",
    "epsilons = (1e-5,2e-5,2e-5)\n",
    "nstep = 100\n",
    "\n",
    "sess = K.get_session()\n",
    "epsilon = K.reshape(K.constant(epsilons), (1,1,3))\n",
    "for istep in range(nstep):\n",
    "    print(\"FGSM %d/%d...\"%(istep+1,nstep))\n",
    "    loss = -1*K.categorical_crossentropy(to_categorical((target_class+1)%2,2), wrapper.get_output_at(0))\n",
    "    grads = K.gradients(loss, wrapper.get_input_at(0))\n",
    "    \n",
    "    if use_sign:\n",
    "        delta = K.sign(grads[0])\n",
    "    else:\n",
    "        delta = grads[0]\n",
    "    x_noise_NN = x_noise_NN + delta\n",
    "    \n",
    "    delta = tf.multiply(delta,tf.sign(tf.cast(x_NN,tf.float32))**2) #don't let it make new constituents\n",
    "    x_adv_NN = x_adv_NN + epsilon*delta\n",
    "    x_adv_NN = sess.run(x_adv_NN, feed_dict={wrapper.get_input_at(0):x_NN})\n",
    "    preds = wrapper.predict(x_adv_NN)[:,target_class]\n",
    "    prediction_history_NN.append(preds.mean())\n",
    "    prediction_history_quant_NN.append(np.percentile(preds, 100*np.array([0.5,0.68,0.9])))\n",
    "    print(\"  avg:\", preds.mean())"
   ]
  },
  {
   "cell_type": "code",
   "execution_count": 26,
   "metadata": {},
   "outputs": [],
   "source": [
    "x_adv_NN_predict = wrapper.predict(x_adv_NN)"
   ]
  },
  {
   "cell_type": "code",
   "execution_count": 27,
   "metadata": {},
   "outputs": [],
   "source": [
    "backs = benchmark_LL_PFN.predict(X_val[y_val==0])\n",
    "sigs = benchmark_LL_PFN.predict(X_val[y_val==1])"
   ]
  },
  {
   "cell_type": "code",
   "execution_count": 28,
   "metadata": {},
   "outputs": [
    {
     "data": {
      "text/plain": [
       "<matplotlib.legend.Legend at 0x7f5362b96860>"
      ]
     },
     "execution_count": 28,
     "metadata": {},
     "output_type": "execute_result"
    },
    {
     "data": {
      "image/png": "[encoded data removed]",
      "text/plain": [
       "<Figure size 360x360 with 1 Axes>"
      ]
     },
     "metadata": {
      "needs_background": "light"
     },
     "output_type": "display_data"
    }
   ],
   "source": [
    "plt.rc('xtick',labelsize=15)\n",
    "plt.rc('ytick',labelsize=15)\n",
    "plt.figure(figsize=(5,5))\n",
    "n,b,_=plt.hist(x_adv_NN_predict[:,1],density=True,histtype='step',bins=30,color='rebeccapurple',linestyle=\"--\",linewidth=2.0)\n",
    "n2,_,_=plt.hist(backs,density=True,bins=b,histtype='step',color='mediumseagreen',label=\"Background\",linewidth=2.0)\n",
    "_,_,_=plt.hist(sigs,density=True,bins=b,color='gray',alpha=0.3,label=\"Signal\")\n",
    "_,_,_=plt.hist(x_adv_NN_predict[:,1],density=True,histtype='step',bins=b,color='rebeccapurple',linestyle=\"--\",label=\"Perturbed Signal\",linewidth=2.0)\n",
    "plt.ylim([0,max(n2)*1.4])\n",
    "plt.xlabel('NN output',fontsize=15)\n",
    "plt.ylabel('Normalized',fontsize=15)\n",
    "plt.legend(frameon=False,fontsize=15)"
   ]
  },
  {
   "cell_type": "code",
   "execution_count": 29,
   "metadata": {},
   "outputs": [],
   "source": [
    "from sklearn.metrics import roc_curve\n",
    "preds_LL_PFN = benchmark_LL_PFN.predict(X_val)\n",
    "fpr_LL_PFN, tpr_LL_PFN, _ = roc_curve(y_val, 1-preds_LL_PFN)\n",
    "\n",
    "preds_NN_adv = wrapper.predict(x_adv_NN)\n",
    "fprNN_adv, tprNN_adv, _ = roc_curve(np.concatenate([y_val[y_val!=target_class],np.ones(len(preds_NN_adv))]),np.concatenate([np.reshape(1-preds_LL_PFN[y_val!=target_class],[len(preds_LL_PFN[y_val!=target_class])]),1-preds_NN_adv[:,1]]))"
   ]
  },
  {
   "cell_type": "code",
   "execution_count": 30,
   "metadata": {},
   "outputs": [
    {
     "data": {
      "image/png": "[encoded data removed]",
      "text/plain": [
       "<Figure size 432x288 with 1 Axes>"
      ]
     },
     "metadata": {
      "needs_background": "light"
     },
     "output_type": "display_data"
    }
   ],
   "source": [
    "plt.axes().set_aspect('equal')\n",
    "plt.plot(fpr_LL_PFN,tpr_LL_PFN,color='darkorange',label=r'Baseline PFN')\n",
    "plt.plot(fprNN_adv,tprNN_adv,color='blue',label=r'PFN after FGSM',linestyle=\":\")\n",
    "plt.plot([0,1],[0,1],linestyle='--',color=\"#C0C0C0\",label=\"Random\")\n",
    "plt.xlabel('Pr(label signal | signal)',fontsize=15)\n",
    "plt.ylabel('Pr(label signal | background)',fontsize=15)\n",
    "plt.axis([0, 1, 0, 1])\n",
    "plt.legend(loc='upper left',frameon=False,fontsize=15)\n",
    "plt.show()"
   ]
  },
  {
   "cell_type": "code",
   "execution_count": 31,
   "metadata": {},
   "outputs": [],
   "source": [
    "#This is the numpy version of the tensorflow function in util.py\n",
    "def mymass_numpy(x):\n",
    "    #this one takes _consts without any modification.\n",
    "    pT,eta,phi=np.split(x,3,axis=2) #axis = 2 because it is a list of particles, then a list of properties per particle\n",
    "    jpx = np.sum(pT*np.cos(phi),axis=1)\n",
    "    jpy = np.sum(pT*np.sin(phi),axis=1)\n",
    "    jpz = np.sum(pT*(0.5*(np.exp(eta)-np.exp(-eta))),axis=1) #no tf.sinh in my version\n",
    "    jpE = np.sum(pT*(0.5*(np.exp(eta)+np.exp(-eta))),axis=1) #no tf.cosh in my version\n",
    "    jet_m2 = jpE**2-jpx**2-jpy**2-jpz**2\n",
    "    jet_mass = np.sqrt(np.where(jet_m2>0,jet_m2,np.zeros_like(jet_m2))) #m\n",
    "    return jet_mass #m"
   ]
  },
  {
   "cell_type": "code",
   "execution_count": 32,
   "metadata": {},
   "outputs": [],
   "source": [
    "m_backs = mymass_numpy(X_val[y_val==0])*1000\n",
    "m_signal = mymass_numpy(X_val[y_val==1])*1000\n",
    "m_signal_advs = mymass_numpy(x_adv_NN)*1000"
   ]
  },
  {
   "cell_type": "code",
   "execution_count": 33,
   "metadata": {},
   "outputs": [
    {
     "data": {
      "text/plain": [
       "<matplotlib.legend.Legend at 0x7f5362a4b278>"
      ]
     },
     "execution_count": 33,
     "metadata": {},
     "output_type": "execute_result"
    },
    {
     "data": {
      "image/png": "[encoded data removed]",
      "text/plain": [
       "<Figure size 360x360 with 1 Axes>"
      ]
     },
     "metadata": {
      "needs_background": "light"
     },
     "output_type": "display_data"
    }
   ],
   "source": [
    "plt.rc('xtick',labelsize=15)\n",
    "plt.rc('ytick',labelsize=15)\n",
    "plt.figure(figsize=(5,5))\n",
    "n,b,_=plt.hist(m_signal_advs,density=True,histtype='step',bins=np.linspace(0,300,30),color='rebeccapurple',linestyle=\"--\",linewidth=2.0)\n",
    "_,_,_=plt.hist(m_backs,density=True,bins=b,histtype='step',color='mediumseagreen',label=\"Background\",linewidth=2.0)\n",
    "_,_,_=plt.hist(m_signal,density=True,bins=b,color='gray',alpha=0.3,label=\"Signal\")\n",
    "_,_,_=plt.hist(m_signal_advs,density=True,histtype='step',bins=b,color='rebeccapurple',linestyle=\"--\",label=\"Perturbed Signal\",linewidth=2.0)\n",
    "plt.ylim([0,max(n)*1.8])\n",
    "plt.xlabel('Jet Mass [GeV]',fontsize=15)\n",
    "plt.ylabel('Normalized',fontsize=15)\n",
    "plt.legend(frameon=False,fontsize=15)"
   ]
  },
  {
   "cell_type": "markdown",
   "metadata": {},
   "source": [
    "Now, let's contrast this with the network trained on high-level observables (inside a FCN)."
   ]
  },
  {
   "cell_type": "code",
   "execution_count": 34,
   "metadata": {},
   "outputs": [
    {
     "name": "stdout",
     "output_type": "stream",
     "text": [
      "WARNING:tensorflow:Falling back to exponential-space implementation of einsum() because index \"i\" is summed over more than two inputs.\n",
      "WARNING:tensorflow:Falling back to exponential-space implementation of einsum() because index \"k\" is summed over more than two inputs.\n",
      "WARNING:tensorflow:Falling back to exponential-space implementation of einsum() because index \"i\" is summed over more than two inputs.\n",
      "WARNING:tensorflow:Falling back to exponential-space implementation of einsum() because index \"k\" is summed over more than two inputs.\n"
     ]
    }
   ],
   "source": [
    "benchmark_HL_nonaug, benchmark_HL_aug, benchmark_HL_calc = models.mk_benchmark_HL(**defs.BENCHMARK_HL_ARGS)"
   ]
  },
  {
   "cell_type": "code",
   "execution_count": 35,
   "metadata": {},
   "outputs": [
    {
     "name": "stdout",
     "output_type": "stream",
     "text": [
      "_________________________________________________________________\n",
      "Layer (type)                 Output Shape              Param #   \n",
      "=================================================================\n",
      "input_4 (InputLayer)         (None, 96, 3)             0         \n",
      "_________________________________________________________________\n",
      "model_4 (Model)              (None, 4)                 0         \n",
      "_________________________________________________________________\n",
      "model_2 (Model)              (None, 1)                 297985    \n",
      "=================================================================\n",
      "Total params: 297,985\n",
      "Trainable params: 297,985\n",
      "Non-trainable params: 0\n",
      "_________________________________________________________________\n"
     ]
    }
   ],
   "source": [
    "benchmark_HL_calc.summary()"
   ]
  },
  {
   "cell_type": "code",
   "execution_count": 36,
   "metadata": {},
   "outputs": [
    {
     "name": "stdout",
     "output_type": "stream",
     "text": [
      "Train on 133628 samples, validate on 23580 samples\n",
      "Epoch 1/50\n",
      "133628/133628 [==============================] - 27s 199us/step - loss: 0.6660 - val_loss: 0.6436\n",
      "Epoch 2/50\n",
      "133628/133628 [==============================] - 17s 125us/step - loss: 0.6420 - val_loss: 0.6167\n",
      "Epoch 3/50\n",
      "133628/133628 [==============================] - 17s 125us/step - loss: 0.6108 - val_loss: 0.5780\n",
      "Epoch 4/50\n",
      "133628/133628 [==============================] - 17s 125us/step - loss: 0.5791 - val_loss: 0.5591\n",
      "Epoch 5/50\n",
      "133628/133628 [==============================] - 17s 125us/step - loss: 0.5689 - val_loss: 0.5570\n",
      "Epoch 6/50\n",
      "133628/133628 [==============================] - 17s 125us/step - loss: 0.5658 - val_loss: 0.5548\n",
      "Epoch 7/50\n",
      "133628/133628 [==============================] - 17s 125us/step - loss: 0.5642 - val_loss: 0.5558\n",
      "Epoch 8/50\n",
      "133628/133628 [==============================] - 17s 125us/step - loss: 0.5632 - val_loss: 0.5548\n",
      "Epoch 9/50\n",
      "133628/133628 [==============================] - 17s 125us/step - loss: 0.5623 - val_loss: 0.5572\n",
      "Epoch 10/50\n",
      "133628/133628 [==============================] - 17s 126us/step - loss: 0.5613 - val_loss: 0.5536\n",
      "Epoch 11/50\n",
      "133628/133628 [==============================] - 17s 126us/step - loss: 0.5601 - val_loss: 0.5518\n",
      "Epoch 12/50\n",
      "133628/133628 [==============================] - 17s 125us/step - loss: 0.5597 - val_loss: 0.5520\n",
      "Epoch 13/50\n",
      "133628/133628 [==============================] - 17s 124us/step - loss: 0.5597 - val_loss: 0.5507\n",
      "Epoch 14/50\n",
      "133628/133628 [==============================] - 17s 126us/step - loss: 0.5588 - val_loss: 0.5511\n",
      "Epoch 15/50\n",
      "133628/133628 [==============================] - 17s 125us/step - loss: 0.5581 - val_loss: 0.5509\n",
      "Epoch 16/50\n",
      "133628/133628 [==============================] - 17s 126us/step - loss: 0.5579 - val_loss: 0.5519\n",
      "Epoch 17/50\n",
      "133628/133628 [==============================] - 17s 126us/step - loss: 0.5579 - val_loss: 0.5503\n",
      "Epoch 18/50\n",
      "133628/133628 [==============================] - 17s 125us/step - loss: 0.5571 - val_loss: 0.5491\n",
      "Epoch 19/50\n",
      "133628/133628 [==============================] - 17s 125us/step - loss: 0.5572 - val_loss: 0.5496\n",
      "Epoch 20/50\n",
      "133628/133628 [==============================] - 17s 126us/step - loss: 0.5564 - val_loss: 0.5483\n",
      "Epoch 21/50\n",
      "133628/133628 [==============================] - 17s 125us/step - loss: 0.5565 - val_loss: 0.5485\n",
      "Epoch 22/50\n",
      "133628/133628 [==============================] - 17s 127us/step - loss: 0.5562 - val_loss: 0.5501\n",
      "Epoch 23/50\n",
      "133628/133628 [==============================] - 17s 126us/step - loss: 0.5553 - val_loss: 0.5484\n",
      "Epoch 24/50\n",
      "133628/133628 [==============================] - 17s 126us/step - loss: 0.5553 - val_loss: 0.5492\n",
      "Epoch 25/50\n",
      "133628/133628 [==============================] - 17s 125us/step - loss: 0.5558 - val_loss: 0.5505\n",
      "Epoch 26/50\n",
      "133628/133628 [==============================] - 17s 125us/step - loss: 0.5552 - val_loss: 0.5497\n",
      "Epoch 27/50\n",
      "133628/133628 [==============================] - 17s 125us/step - loss: 0.5547 - val_loss: 0.5498\n",
      "Epoch 28/50\n",
      "133628/133628 [==============================] - 17s 125us/step - loss: 0.5548 - val_loss: 0.5481\n",
      "Epoch 29/50\n",
      "133628/133628 [==============================] - 17s 126us/step - loss: 0.5548 - val_loss: 0.5493\n",
      "Epoch 30/50\n",
      "133628/133628 [==============================] - 17s 125us/step - loss: 0.5546 - val_loss: 0.5498\n",
      "Epoch 31/50\n",
      "133628/133628 [==============================] - 17s 125us/step - loss: 0.5544 - val_loss: 0.5502\n",
      "Epoch 32/50\n",
      "133628/133628 [==============================] - 17s 125us/step - loss: 0.5541 - val_loss: 0.5477\n",
      "Epoch 33/50\n",
      "133628/133628 [==============================] - 17s 125us/step - loss: 0.5540 - val_loss: 0.5478\n",
      "Epoch 34/50\n",
      "133628/133628 [==============================] - 17s 126us/step - loss: 0.5536 - val_loss: 0.5477\n",
      "Epoch 35/50\n",
      "133628/133628 [==============================] - 17s 125us/step - loss: 0.5539 - val_loss: 0.5480\n",
      "Epoch 36/50\n",
      "133628/133628 [==============================] - 17s 125us/step - loss: 0.5535 - val_loss: 0.5504\n",
      "Epoch 37/50\n",
      "133628/133628 [==============================] - 17s 125us/step - loss: 0.5535 - val_loss: 0.5471\n",
      "Epoch 38/50\n",
      "133628/133628 [==============================] - 17s 125us/step - loss: 0.5536 - val_loss: 0.5496\n",
      "Epoch 39/50\n",
      "133628/133628 [==============================] - 17s 125us/step - loss: 0.5535 - val_loss: 0.5495\n",
      "Epoch 40/50\n",
      "133628/133628 [==============================] - 17s 125us/step - loss: 0.5531 - val_loss: 0.5479\n",
      "Epoch 41/50\n",
      "133628/133628 [==============================] - 17s 125us/step - loss: 0.5535 - val_loss: 0.5477\n",
      "Epoch 42/50\n",
      "133628/133628 [==============================] - 17s 125us/step - loss: 0.5530 - val_loss: 0.5470\n",
      "Epoch 43/50\n",
      "133628/133628 [==============================] - 17s 125us/step - loss: 0.5532 - val_loss: 0.5476\n",
      "Epoch 44/50\n",
      "133628/133628 [==============================] - 17s 125us/step - loss: 0.5529 - val_loss: 0.5481\n",
      "Epoch 45/50\n",
      "133628/133628 [==============================] - 17s 126us/step - loss: 0.5534 - val_loss: 0.5483\n",
      "Epoch 46/50\n",
      "133628/133628 [==============================] - 17s 125us/step - loss: 0.5525 - val_loss: 0.5467\n",
      "Epoch 47/50\n",
      "133628/133628 [==============================] - 17s 125us/step - loss: 0.5525 - val_loss: 0.5477\n",
      "Epoch 48/50\n",
      "133628/133628 [==============================] - 17s 126us/step - loss: 0.5527 - val_loss: 0.5502\n",
      "Epoch 49/50\n",
      "133628/133628 [==============================] - 17s 126us/step - loss: 0.5526 - val_loss: 0.5468\n",
      "Epoch 50/50\n",
      "133628/133628 [==============================] - 17s 126us/step - loss: 0.5527 - val_loss: 0.5472\n"
     ]
    }
   ],
   "source": [
    "epochs = 50\n",
    "\n",
    "batch_size = 256\n",
    "\n",
    "learning_rate = 3e-4\n",
    "\n",
    "K.set_value(benchmark_HL_calc.optimizer.lr, learning_rate)\n",
    "\n",
    "stopping = callbacks.EarlyStopping(monitor='val_loss', patience=32, verbose=1,\n",
    "                                   mode='min', restore_best_weights=True)\n",
    "\n",
    "try:\n",
    "    benchmark_HL_calc.fit(X_train, y_train,\n",
    "                     validation_data=(X_val, y_val),\n",
    "                     batch_size=batch_size,\n",
    "                     epochs=epochs\n",
    "                    )\n",
    "except KeyboardInterrupt:\n",
    "    pass"
   ]
  },
  {
   "cell_type": "code",
   "execution_count": 39,
   "metadata": {},
   "outputs": [],
   "source": [
    "benchmark_HL_calc.save(\"model_benchmark_HL_calc.h5\")"
   ]
  },
  {
   "cell_type": "code",
   "execution_count": 37,
   "metadata": {},
   "outputs": [],
   "source": [
    "preds_val = benchmark_HL_calc.predict(X_val, batch_size=512).squeeze()"
   ]
  },
  {
   "cell_type": "code",
   "execution_count": 38,
   "metadata": {},
   "outputs": [
    {
     "data": {
      "image/png": "[encoded data removed]",
      "text/plain": [
       "<Figure size 432x288 with 1 Axes>"
      ]
     },
     "metadata": {
      "needs_background": "light"
     },
     "output_type": "display_data"
    },
    {
     "data": {
      "image/png": "[encoded data removed]",
      "text/plain": [
       "<Figure size 432x288 with 1 Axes>"
      ]
     },
     "metadata": {
      "needs_background": "light"
     },
     "output_type": "display_data"
    }
   ],
   "source": [
    "plt.plot(benchmark_HL_calc.history.history['loss'])\n",
    "plt.plot(benchmark_HL_calc.history.history['val_loss'],linestyle=\":\")\n",
    "\n",
    "plt.figure()\n",
    "plt.hist([preds_val[y_val==0], preds_val[y_val==1]], histtype='step', bins=80, fill=True, alpha=0.2);"
   ]
  },
  {
   "cell_type": "code",
   "execution_count": 40,
   "metadata": {},
   "outputs": [],
   "source": [
    "#The model has a one-node output; it was easier for the FGSM to make it a two-node output\n",
    "#(e.g. as if trained with categorical cross-entropy)\n",
    "\n",
    "intermediatebit_HL = Sequential()\n",
    "intermediatebit_HL.add(Lambda(to_categorical_layer))\n",
    "\n",
    "wrapper_HL = Model(inputs=benchmark_HL_calc.input,outputs=intermediatebit_HL(benchmark_HL_calc.output))"
   ]
  },
  {
   "cell_type": "code",
   "execution_count": 41,
   "metadata": {},
   "outputs": [],
   "source": [
    "njet_HL = 500\n",
    "\n",
    "x_NN_HL = X_val[y_val==target_class][:njet_HL]\n",
    "x_adv_NN_HL = x_NN_HL.copy()\n",
    "x_noise_NN_HL = np.zeros_like(x_NN_HL)\n",
    "\n",
    "prediction_history_NN_HL     = [wrapper_HL.predict(x_NN_HL)[:,target_class].mean()]\n",
    "prediction_history_quant_NN_HL = [np.percentile(wrapper_HL.predict(x_NN_HL)[:,target_class],100*np.array([0.5,0.68,0.95]))]"
   ]
  },
  {
   "cell_type": "code",
   "execution_count": 42,
   "metadata": {},
   "outputs": [
    {
     "name": "stdout",
     "output_type": "stream",
     "text": [
      "FGSM 1/100...\n",
      "  avg: 0.64393485\n",
      "FGSM 2/100...\n",
      "  avg: 0.6423902\n",
      "FGSM 3/100...\n",
      "  avg: 0.6408401\n",
      "FGSM 4/100...\n",
      "  avg: 0.6392843\n",
      "FGSM 5/100...\n",
      "  avg: 0.63772374\n",
      "FGSM 6/100...\n",
      "  avg: 0.6361528\n",
      "FGSM 7/100...\n",
      "  avg: 0.63456607\n",
      "FGSM 8/100...\n",
      "  avg: 0.63297766\n",
      "FGSM 9/100...\n",
      "  avg: 0.6313854\n",
      "FGSM 10/100...\n",
      "  avg: 0.629794\n",
      "FGSM 11/100...\n",
      "  avg: 0.628204\n",
      "FGSM 12/100...\n",
      "  avg: 0.6266116\n",
      "FGSM 13/100...\n",
      "  avg: 0.625021\n",
      "FGSM 14/100...\n",
      "  avg: 0.62343127\n",
      "FGSM 15/100...\n",
      "  avg: 0.62184435\n",
      "FGSM 16/100...\n",
      "  avg: 0.62025476\n",
      "FGSM 17/100...\n",
      "  avg: 0.61866397\n",
      "FGSM 18/100...\n",
      "  avg: 0.61707395\n",
      "FGSM 19/100...\n",
      "  avg: 0.6154841\n",
      "FGSM 20/100...\n",
      "  avg: 0.6138978\n",
      "FGSM 21/100...\n",
      "  avg: 0.61231244\n",
      "FGSM 22/100...\n",
      "  avg: 0.61072636\n",
      "FGSM 23/100...\n",
      "  avg: 0.6091466\n",
      "FGSM 24/100...\n",
      "  avg: 0.6075736\n",
      "FGSM 25/100...\n",
      "  avg: 0.6060015\n",
      "FGSM 26/100...\n",
      "  avg: 0.6044316\n",
      "FGSM 27/100...\n",
      "  avg: 0.6028657\n",
      "FGSM 28/100...\n",
      "  avg: 0.601298\n",
      "FGSM 29/100...\n",
      "  avg: 0.59973156\n",
      "FGSM 30/100...\n",
      "  avg: 0.5981742\n",
      "FGSM 31/100...\n",
      "  avg: 0.5966191\n",
      "FGSM 32/100...\n",
      "  avg: 0.5950656\n",
      "FGSM 33/100...\n",
      "  avg: 0.5935099\n",
      "FGSM 34/100...\n",
      "  avg: 0.5919524\n",
      "FGSM 35/100...\n",
      "  avg: 0.5903977\n",
      "FGSM 36/100...\n",
      "  avg: 0.588849\n",
      "FGSM 37/100...\n",
      "  avg: 0.58730364\n",
      "FGSM 38/100...\n",
      "  avg: 0.5857623\n",
      "FGSM 39/100...\n",
      "  avg: 0.58421886\n",
      "FGSM 40/100...\n",
      "  avg: 0.5826751\n",
      "FGSM 41/100...\n",
      "  avg: 0.58113474\n",
      "FGSM 42/100...\n",
      "  avg: 0.5795956\n",
      "FGSM 43/100...\n",
      "  avg: 0.5780632\n",
      "FGSM 44/100...\n",
      "  avg: 0.57653356\n",
      "FGSM 45/100...\n",
      "  avg: 0.57500976\n",
      "FGSM 46/100...\n",
      "  avg: 0.57349074\n",
      "FGSM 47/100...\n",
      "  avg: 0.5719695\n",
      "FGSM 48/100...\n",
      "  avg: 0.5704548\n",
      "FGSM 49/100...\n",
      "  avg: 0.56894773\n",
      "FGSM 50/100...\n",
      "  avg: 0.5674322\n",
      "FGSM 51/100...\n",
      "  avg: 0.56592894\n",
      "FGSM 52/100...\n",
      "  avg: 0.56442237\n",
      "FGSM 53/100...\n",
      "  avg: 0.5629552\n",
      "FGSM 54/100...\n",
      "  avg: 0.56145555\n",
      "FGSM 55/100...\n",
      "  avg: 0.55993253\n",
      "FGSM 56/100...\n",
      "  avg: 0.5581549\n",
      "FGSM 57/100...\n",
      "  avg: 0.55639076\n",
      "FGSM 58/100...\n",
      "  avg: 0.55470145\n",
      "FGSM 59/100...\n",
      "  avg: 0.55319893\n",
      "FGSM 60/100...\n",
      "  avg: 0.55170304\n",
      "FGSM 61/100...\n",
      "  avg: 0.54997426\n",
      "FGSM 62/100...\n",
      "  avg: 0.54881907\n",
      "FGSM 63/100...\n",
      "  avg: 0.5470293\n",
      "FGSM 64/100...\n",
      "  avg: 0.5452424\n",
      "FGSM 65/100...\n",
      "  avg: 0.5435873\n",
      "FGSM 66/100...\n",
      "  avg: 0.542047\n",
      "FGSM 67/100...\n",
      "  avg: 0.5405601\n",
      "FGSM 68/100...\n",
      "  avg: 0.53910017\n",
      "FGSM 69/100...\n",
      "  avg: 0.53765273\n",
      "FGSM 70/100...\n",
      "  avg: 0.5362112\n",
      "FGSM 71/100...\n",
      "  avg: 0.53477174\n",
      "FGSM 72/100...\n",
      "  avg: 0.5333308\n",
      "FGSM 73/100...\n",
      "  avg: 0.53189534\n",
      "FGSM 74/100...\n",
      "  avg: 0.5304714\n",
      "FGSM 75/100...\n",
      "  avg: 0.52904725\n",
      "FGSM 76/100...\n",
      "  avg: 0.52763146\n",
      "FGSM 77/100...\n",
      "  avg: 0.5262207\n",
      "FGSM 78/100...\n",
      "  avg: 0.52481\n",
      "FGSM 79/100...\n",
      "  avg: 0.52340436\n",
      "FGSM 80/100...\n",
      "  avg: 0.5220056\n",
      "FGSM 81/100...\n",
      "  avg: 0.5206053\n",
      "FGSM 82/100...\n",
      "  avg: 0.51920563\n",
      "FGSM 83/100...\n",
      "  avg: 0.5178067\n",
      "FGSM 84/100...\n",
      "  avg: 0.51641417\n",
      "FGSM 85/100...\n",
      "  avg: 0.51502043\n",
      "FGSM 86/100...\n",
      "  avg: 0.5136279\n",
      "FGSM 87/100...\n",
      "  avg: 0.5122395\n",
      "FGSM 88/100...\n",
      "  avg: 0.51085705\n",
      "FGSM 89/100...\n",
      "  avg: 0.5094837\n",
      "FGSM 90/100...\n",
      "  avg: 0.5081112\n",
      "FGSM 91/100...\n",
      "  avg: 0.5067549\n",
      "FGSM 92/100...\n",
      "  avg: 0.50543123\n",
      "FGSM 93/100...\n",
      "  avg: 0.50412863\n",
      "FGSM 94/100...\n",
      "  avg: 0.50281924\n",
      "FGSM 95/100...\n",
      "  avg: 0.50150776\n",
      "FGSM 96/100...\n",
      "  avg: 0.50020665\n",
      "FGSM 97/100...\n",
      "  avg: 0.4989113\n",
      "FGSM 98/100...\n",
      "  avg: 0.49739102\n",
      "FGSM 99/100...\n",
      "  avg: 0.4956487\n",
      "FGSM 100/100...\n",
      "  avg: 0.4939817\n"
     ]
    }
   ],
   "source": [
    "epsilons = (1e-5,2e-5,2e-5)\n",
    "nstep = 100\n",
    "\n",
    "sess = K.get_session()\n",
    "epsilon = K.reshape(K.constant(epsilons), (1,1,3))\n",
    "for istep in range(nstep):\n",
    "    print(\"FGSM %d/%d...\"%(istep+1,nstep))\n",
    "    loss = -1*K.categorical_crossentropy(to_categorical((target_class+1)%2,2), wrapper_HL.get_output_at(0))\n",
    "    grads = K.gradients(loss, wrapper_HL.get_input_at(0))\n",
    "    \n",
    "    if use_sign:\n",
    "        delta = K.sign(grads[0])\n",
    "    else:\n",
    "        delta = grads[0]\n",
    "    x_noise_NN_HL = x_noise_NN_HL + delta\n",
    "    \n",
    "    delta = tf.multiply(delta,tf.sign(tf.cast(x_NN_HL,tf.float32))**2) #don't let it make new constituents\n",
    "    x_adv_NN_HL = x_adv_NN_HL + epsilon*delta\n",
    "    x_adv_NN_HL = sess.run(x_adv_NN_HL, feed_dict={wrapper_HL.get_input_at(0):x_NN_HL})\n",
    "    preds = wrapper_HL.predict(x_adv_NN_HL)[:,target_class]\n",
    "    prediction_history_NN_HL.append(preds.mean())\n",
    "    prediction_history_quant_NN_HL.append(np.percentile(preds, 100*np.array([0.5,0.68,0.9])))\n",
    "    print(\"  avg:\", preds.mean())"
   ]
  },
  {
   "cell_type": "code",
   "execution_count": 43,
   "metadata": {},
   "outputs": [],
   "source": [
    "x_adv_NN_HL_predict = wrapper_HL.predict(x_adv_NN_HL)"
   ]
  },
  {
   "cell_type": "code",
   "execution_count": 44,
   "metadata": {},
   "outputs": [],
   "source": [
    "backs_HL = wrapper_HL.predict(X_val[y_val==0])\n",
    "sigs_HL = wrapper_HL.predict(X_val[y_val==1])"
   ]
  },
  {
   "cell_type": "code",
   "execution_count": 45,
   "metadata": {},
   "outputs": [
    {
     "data": {
      "text/plain": [
       "<matplotlib.legend.Legend at 0x7f4f43d0a2e8>"
      ]
     },
     "execution_count": 45,
     "metadata": {},
     "output_type": "execute_result"
    },
    {
     "data": {
      "image/png": "[encoded data removed]",
      "text/plain": [
       "<Figure size 360x360 with 1 Axes>"
      ]
     },
     "metadata": {
      "needs_background": "light"
     },
     "output_type": "display_data"
    }
   ],
   "source": [
    "plt.rc('xtick',labelsize=15)\n",
    "plt.rc('ytick',labelsize=15)\n",
    "plt.figure(figsize=(5,5))\n",
    "n,b,_=plt.hist(x_adv_NN_HL_predict[:,1],density=True,histtype='step',bins=30,color='rebeccapurple',linestyle=\"--\",linewidth=2.0)\n",
    "n2,_,_=plt.hist(backs_HL[:,1],density=True,bins=b,histtype='step',color='mediumseagreen',label=\"Background\",linewidth=2.0)\n",
    "_,_,_=plt.hist(sigs_HL[:,1],density=True,bins=b,color='gray',alpha=0.3,label=\"Signal\")\n",
    "_,_,_=plt.hist(x_adv_NN_HL_predict[:,1],density=True,histtype='step',bins=b,color='rebeccapurple',linestyle=\"--\",label=\"Perturbed Signal\",linewidth=2.0)\n",
    "plt.ylim([0,max(n2)*1.4])\n",
    "plt.xlabel('NN output',fontsize=15)\n",
    "plt.ylabel('Normalized',fontsize=15)\n",
    "plt.legend(frameon=False,fontsize=15)"
   ]
  },
  {
   "cell_type": "code",
   "execution_count": 46,
   "metadata": {},
   "outputs": [],
   "source": [
    "preds_HL = wrapper_HL.predict(X_val)\n",
    "fpr_HL, tpr_HL, _ = roc_curve(y_val, 1-preds_HL[:,1])\n",
    "\n",
    "preds_NN_HL_adv = wrapper_HL.predict(x_adv_NN_HL)\n",
    "fprNN_HL_adv, tprNN_HL_adv, _ = roc_curve(np.concatenate([y_val[y_val!=target_class],np.ones(len(preds_NN_HL_adv))]),np.concatenate([np.reshape(1-preds_HL[y_val!=target_class][:,1],[len(preds_HL[y_val!=target_class][:,1])]),1-preds_NN_HL_adv[:,1]]))"
   ]
  },
  {
   "cell_type": "code",
   "execution_count": 47,
   "metadata": {},
   "outputs": [
    {
     "data": {
      "image/png": "[encoded data removed]",
      "text/plain": [
       "<Figure size 432x288 with 1 Axes>"
      ]
     },
     "metadata": {
      "needs_background": "light"
     },
     "output_type": "display_data"
    }
   ],
   "source": [
    "plt.axes().set_aspect('equal')\n",
    "plt.plot(fpr_LL_PFN,tpr_LL_PFN,color='darkorange',label=r'Baseline PFN')\n",
    "plt.plot(fprNN_adv,tprNN_adv,color='darkorange',label=r'PFN after FGSM',linestyle=\":\")\n",
    "plt.plot(fpr_HL,tpr_HL,color='blue',label=r'HL Baseline')\n",
    "plt.plot(fprNN_HL_adv,tprNN_HL_adv,color='blue',label=r'HL after FGSM',linestyle=\":\")\n",
    "plt.plot([0,1],[0,1],linestyle='--',color=\"#C0C0C0\",label=\"Random\")\n",
    "plt.xlabel('Pr(label signal | signal)',fontsize=15)\n",
    "plt.ylabel('Pr(label signal | background)',fontsize=15)\n",
    "plt.axis([0, 1, 0, 1])\n",
    "plt.legend(loc='upper left',frameon=False,fontsize=15)\n",
    "plt.show()"
   ]
  },
  {
   "cell_type": "code",
   "execution_count": 48,
   "metadata": {},
   "outputs": [],
   "source": [
    "m_signal_advs_HL = mymass_numpy(x_adv_NN_HL)*1000"
   ]
  },
  {
   "cell_type": "code",
   "execution_count": 49,
   "metadata": {},
   "outputs": [
    {
     "data": {
      "text/plain": [
       "<matplotlib.legend.Legend at 0x7f4f43c32be0>"
      ]
     },
     "execution_count": 49,
     "metadata": {},
     "output_type": "execute_result"
    },
    {
     "data": {
      "image/png": "[encoded data removed]",
      "text/plain": [
       "<Figure size 360x360 with 1 Axes>"
      ]
     },
     "metadata": {
      "needs_background": "light"
     },
     "output_type": "display_data"
    }
   ],
   "source": [
    "plt.rc('xtick',labelsize=15)\n",
    "plt.rc('ytick',labelsize=15)\n",
    "plt.figure(figsize=(5,5))\n",
    "n,b,_=plt.hist(m_signal_advs_HL,density=True,histtype='step',bins=np.linspace(0,300,30),color='rebeccapurple',linestyle=\"--\",linewidth=2.0)\n",
    "_,_,_=plt.hist(m_backs,density=True,bins=b,histtype='step',color='mediumseagreen',label=\"Background\",linewidth=2.0)\n",
    "_,_,_=plt.hist(m_signal,density=True,bins=b,color='gray',alpha=0.3,label=\"Signal\")\n",
    "_,_,_=plt.hist(m_signal_advs_HL,density=True,histtype='step',bins=b,color='rebeccapurple',linestyle=\"--\",label=\"Perturbed Signal\",linewidth=2.0)\n",
    "plt.ylim([0,max(n)*1.8])\n",
    "plt.xlabel('Jet Mass [GeV]',fontsize=15)\n",
    "plt.ylabel('Normalized',fontsize=15)\n",
    "plt.legend(frameon=False,fontsize=15)"
   ]
  },
  {
   "cell_type": "code",
   "execution_count": null,
   "metadata": {},
   "outputs": [],
   "source": []
  },
  {
   "cell_type": "code",
   "execution_count": null,
   "metadata": {},
   "outputs": [],
   "source": []
  }
 ],
 "metadata": {
  "kernelspec": {
   "display_name": "Python 3",
   "language": "python",
   "name": "python3"
  },
  "language_info": {
   "codemirror_mode": {
    "name": "ipython",
    "version": 3
   },
   "file_extension": ".py",
   "mimetype": "text/x-python",
   "name": "python",
   "nbconvert_exporter": "python",
   "pygments_lexer": "ipython3",
   "version": "3.6.9"
  }
 },
 "nbformat": 4,
 "nbformat_minor": 4
}

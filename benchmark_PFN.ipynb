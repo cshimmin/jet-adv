{
 "cells": [
  {
   "cell_type": "code",
   "execution_count": 1,
   "metadata": {},
   "outputs": [],
   "source": [
    "%load_ext autoreload\n",
    "%autoreload 2"
   ]
  },
  {
   "cell_type": "code",
   "execution_count": 2,
   "metadata": {},
   "outputs": [],
   "source": [
    "import os\n",
    "os.environ['CUDA_VISIBLE_DEVICES'] = '3'\n",
    "\n",
    "import tensorflow as tf\n",
    "config = tf.ConfigProto()\n",
    "config.gpu_options.allow_growth = True\n",
    "session = tf.Session(config=config)"
   ]
  },
  {
   "cell_type": "code",
   "execution_count": 3,
   "metadata": {},
   "outputs": [
    {
     "name": "stderr",
     "output_type": "stream",
     "text": [
      "Using TensorFlow backend.\n"
     ]
    }
   ],
   "source": [
    "import keras\n",
    "import keras.backend as K\n",
    "import keras.layers as layers\n",
    "from keras.models import Model\n",
    "from keras.utils import to_categorical\n",
    "from keras import callbacks"
   ]
  },
  {
   "cell_type": "code",
   "execution_count": 4,
   "metadata": {},
   "outputs": [],
   "source": [
    "import numpy as np\n",
    "import matplotlib.pyplot as plt\n",
    "from matplotlib.colors import LogNorm"
   ]
  },
  {
   "cell_type": "code",
   "execution_count": 5,
   "metadata": {},
   "outputs": [],
   "source": [
    "import util, defs, models"
   ]
  },
  {
   "cell_type": "code",
   "execution_count": 8,
   "metadata": {},
   "outputs": [],
   "source": [
    "import energyflow as ef\n",
    "from energyflow.archs import PFN"
   ]
  },
  {
   "cell_type": "code",
   "execution_count": 6,
   "metadata": {},
   "outputs": [
    {
     "name": "stdout",
     "output_type": "stream",
     "text": [
      "(297233, 96, 3)\n",
      "(392759, 96, 3)\n"
     ]
    }
   ],
   "source": [
    "bg_consts, sig_consts, bg_jets, sig_jets = util.load_data()\n",
    "    \n",
    "print(bg_consts.shape)\n",
    "print(sig_consts.shape)"
   ]
  },
  {
   "cell_type": "code",
   "execution_count": 7,
   "metadata": {},
   "outputs": [
    {
     "name": "stdout",
     "output_type": "stream",
     "text": [
      "Training set:   (505298, 96, 3)\n",
      "Validation set: (89168, 96, 3)\n"
     ]
    }
   ],
   "source": [
    "(X_train, y_train), (X_val, y_val) = util.format_dataset(bg_consts, sig_consts,\n",
    "                                                         validation_fraction=defs.VALIDATION_FRACTION)\n",
    "\n",
    "print(\"Training set:  \", X_train.shape)\n",
    "print(\"Validation set:\", X_val.shape)"
   ]
  },
  {
   "cell_type": "code",
   "execution_count": 405,
   "metadata": {},
   "outputs": [
    {
     "name": "stdout",
     "output_type": "stream",
     "text": [
      "Model: \"model_1\"\n",
      "__________________________________________________________________________________________________\n",
      "Layer (type)                    Output Shape         Param #     Connected to                     \n",
      "==================================================================================================\n",
      "input (InputLayer)              (None, None, 4)      0                                            \n",
      "__________________________________________________________________________________________________\n",
      "tdist_0 (TimeDistributed)       (None, None, 256)    1280        input[0][0]                      \n",
      "__________________________________________________________________________________________________\n",
      "activation_1 (Activation)       (None, None, 256)    0           tdist_0[0][0]                    \n",
      "__________________________________________________________________________________________________\n",
      "tdist_1 (TimeDistributed)       (None, None, 256)    65792       activation_1[0][0]               \n",
      "__________________________________________________________________________________________________\n",
      "activation_2 (Activation)       (None, None, 256)    0           tdist_1[0][0]                    \n",
      "__________________________________________________________________________________________________\n",
      "tdist_2 (TimeDistributed)       (None, None, 256)    65792       activation_2[0][0]               \n",
      "__________________________________________________________________________________________________\n",
      "activation_3 (Activation)       (None, None, 256)    0           tdist_2[0][0]                    \n",
      "__________________________________________________________________________________________________\n",
      "tdist_3 (TimeDistributed)       (None, None, 256)    65792       activation_3[0][0]               \n",
      "__________________________________________________________________________________________________\n",
      "activation_4 (Activation)       (None, None, 256)    0           tdist_3[0][0]                    \n",
      "__________________________________________________________________________________________________\n",
      "tdist_4 (TimeDistributed)       (None, None, 256)    65792       activation_4[0][0]               \n",
      "__________________________________________________________________________________________________\n",
      "mask (Lambda)                   (None, None)         0           input[0][0]                      \n",
      "__________________________________________________________________________________________________\n",
      "activation_5 (Activation)       (None, None, 256)    0           tdist_4[0][0]                    \n",
      "__________________________________________________________________________________________________\n",
      "sum (Dot)                       (None, 256)          0           mask[0][0]                       \n",
      "                                                                 activation_5[0][0]               \n",
      "__________________________________________________________________________________________________\n",
      "dense_0 (Dense)                 (None, 256)          65792       sum[0][0]                        \n",
      "__________________________________________________________________________________________________\n",
      "activation_6 (Activation)       (None, 256)          0           dense_0[0][0]                    \n",
      "__________________________________________________________________________________________________\n",
      "dense_1 (Dense)                 (None, 256)          65792       activation_6[0][0]               \n",
      "__________________________________________________________________________________________________\n",
      "activation_7 (Activation)       (None, 256)          0           dense_1[0][0]                    \n",
      "__________________________________________________________________________________________________\n",
      "dense_2 (Dense)                 (None, 256)          65792       activation_7[0][0]               \n",
      "__________________________________________________________________________________________________\n",
      "activation_8 (Activation)       (None, 256)          0           dense_2[0][0]                    \n",
      "__________________________________________________________________________________________________\n",
      "dense_3 (Dense)                 (None, 256)          65792       activation_8[0][0]               \n",
      "__________________________________________________________________________________________________\n",
      "activation_9 (Activation)       (None, 256)          0           dense_3[0][0]                    \n",
      "__________________________________________________________________________________________________\n",
      "dense_4 (Dense)                 (None, 256)          65792       activation_9[0][0]               \n",
      "__________________________________________________________________________________________________\n",
      "activation_10 (Activation)      (None, 256)          0           dense_4[0][0]                    \n",
      "__________________________________________________________________________________________________\n",
      "output (Dense)                  (None, 1)            257         activation_10[0][0]              \n",
      "__________________________________________________________________________________________________\n",
      "activation_11 (Activation)      (None, 1)            0           output[0][0]                     \n",
      "==================================================================================================\n",
      "Total params: 593,665\n",
      "Trainable params: 593,665\n",
      "Non-trainable params: 0\n",
      "__________________________________________________________________________________________________\n"
     ]
    }
   ],
   "source": [
    "K.clear_session()\n",
    "\n",
    "pfn = models.mk_PFN(**defs.BENCHMARK_PFN_ARGS)\n",
    "\n",
    "pfn.h = util.HistoryCB(val_data=(X_val, y_val))"
   ]
  },
  {
   "cell_type": "code",
   "execution_count": 478,
   "metadata": {},
   "outputs": [
    {
     "name": "stdout",
     "output_type": "stream",
     "text": [
      "Train on 505298 samples, validate on 89168 samples\n",
      "Epoch 1/4\n",
      "505298/505298 [==============================] - 23s 46us/step - loss: 0.5117 - val_loss: 0.5266\n",
      "Epoch 2/4\n",
      "505298/505298 [==============================] - 24s 47us/step - loss: 0.5115 - val_loss: 0.5243\n",
      "Epoch 3/4\n",
      "505298/505298 [==============================] - 24s 47us/step - loss: 0.5115 - val_loss: 0.5266\n",
      "Epoch 4/4\n",
      "505298/505298 [==============================] - 24s 47us/step - loss: 0.5111 - val_loss: 0.5253\n"
     ]
    }
   ],
   "source": [
    "epochs = 4\n",
    "\n",
    "batch_size = 512 #128\n",
    "\n",
    "learning_rate = 1e-3 #3e-4\n",
    "\n",
    "\n",
    "K.set_value(pfn.optimizer.lr, learning_rate)\n",
    "\n",
    "\n",
    "stopping = callbacks.EarlyStopping(monitor='val_loss', patience=32, verbose=2,\n",
    "                                   mode='min', restore_best_weights=True)\n",
    "\n",
    "try:\n",
    "    pfn.fit(X_train, y_train,\n",
    "                     validation_data=(X_val, y_val),\n",
    "                     callbacks=[pfn.h],\n",
    "                     batch_size=batch_size,\n",
    "                     epochs=epochs\n",
    "                    )\n",
    "except KeyboardInterrupt:\n",
    "    pass"
   ]
  },
  {
   "cell_type": "code",
   "execution_count": 479,
   "metadata": {},
   "outputs": [
    {
     "name": "stdout",
     "output_type": "stream",
     "text": [
      "Validation AUC: 0.8156842711378645\n",
      "          best: 0.8173271006365959\n",
      "         ibest: 79/92\n"
     ]
    },
    {
     "data": {
      "image/png": "[encoded data removed]",
      "text/plain": [
       "<Figure size 1152x288 with 3 Axes>"
      ]
     },
     "metadata": {
      "needs_background": "light"
     },
     "output_type": "display_data"
    },
    {
     "data": {
      "image/png": "[encoded data removed]",
      "text/plain": [
       "<Figure size 432x288 with 1 Axes>"
      ]
     },
     "metadata": {
      "needs_background": "light"
     },
     "output_type": "display_data"
    }
   ],
   "source": [
    "pfn.h.plot(['loss', 'val_auc', 'roc'], nskip=2,\n",
    "                    figsize=plt.figaspect(0.25))\n",
    "print(\"Validation AUC:\", pfn.h.history['val_auc'][-1])\n",
    "print(\"          best:\", np.max(pfn.h.history['val_auc']))\n",
    "print(\"         ibest: %d/%d\"%(np.argmax(pfn.h.history['val_auc'])+1, pfn.h.epoch_total))\n",
    "\n",
    "plt.figure()\n",
    "preds_val = pfn.predict(X_val, batch_size=512).squeeze()\n",
    "plt.hist([preds_val[y_val==0], preds_val[y_val==1]], histtype='step', bins=80, fill=True, alpha=0.2);"
   ]
  },
  {
   "cell_type": "code",
   "execution_count": 470,
   "metadata": {},
   "outputs": [],
   "source": [
    "do_save = False\n",
    "if do_save:\n",
    "    pfn.nonaug.save('model_benchmark_PFN_wierd.h5')"
   ]
  },
  {
   "cell_type": "code",
   "execution_count": 468,
   "metadata": {},
   "outputs": [],
   "source": [
    "# best*: 0.817 5x256 no drop +phi (lr=1e-3, bs=512)  *but NN output distribution looks weird\n",
    "# best: 0.814 4x256 no drop, +phi (lr=1e-3, bs=512)\n",
    "# best: 0.805 3x256 no drop, +phi (lr=3e-4, bs=512)\n",
    "# best: 0.789 2x256 no drop, +phi (lr=3e-4. bs=512)"
   ]
  },
  {
   "cell_type": "code",
   "execution_count": 162,
   "metadata": {},
   "outputs": [
    {
     "name": "stderr",
     "output_type": "stream",
     "text": [
      "/ssd/scratch/cshimmin/.virtualenvs/jupyter/lib/python3.6/site-packages/numpy/lib/histograms.py:893: RuntimeWarning: invalid value encountered in true_divide\n",
      "  return n/db/n.sum(), bin_edges\n"
     ]
    },
    {
     "data": {
      "image/png": "[encoded data removed]",
      "text/plain": [
       "<Figure size 432x288 with 1 Axes>"
      ]
     },
     "metadata": {
      "needs_background": "light"
     },
     "output_type": "display_data"
    },
    {
     "data": {
      "image/png": "[encoded data removed]",
      "text/plain": [
       "<Figure size 432x288 with 1 Axes>"
      ]
     },
     "metadata": {
      "needs_background": "light"
     },
     "output_type": "display_data"
    },
    {
     "data": {
      "image/png": "[encoded data removed]",
      "text/plain": [
       "<Figure size 432x288 with 1 Axes>"
      ]
     },
     "metadata": {
      "needs_background": "light"
     },
     "output_type": "display_data"
    }
   ],
   "source": [
    "plt.hist([HL_val[:,3][y_val==0], HL_val[:,3][y_val==1]], histtype='step', bins=80, fill=True, alpha=0.2, density=True);\n",
    "plt.figure()\n",
    "plt.hist([HL_val[:,3][(y_val==0)*(preds_val<0.2)], HL_val[:,3][(y_val==1)*(preds_val<0.2)]], histtype='step', bins=80, density=True);\n",
    "plt.figure()\n",
    "plt.hist([HL_val[:,3][(y_val==0)*(preds_val>0.8)], HL_val[:,3][(y_val==1)*(preds_val>0.8)]], histtype='step', bins=80, density=True);"
   ]
  },
  {
   "cell_type": "code",
   "execution_count": 163,
   "metadata": {},
   "outputs": [
    {
     "name": "stdout",
     "output_type": "stream",
     "text": [
      "0.026155412197113037\n",
      "0.42326484620571136\n",
      "0.5250938057899475\n",
      "0.6164753079414368\n",
      "0.6557076305150985\n",
      "0.7037486743927002\n"
     ]
    },
    {
     "data": {
      "image/png": "[encoded data removed]",
      "text/plain": [
       "<Figure size 432x288 with 1 Axes>"
      ]
     },
     "metadata": {
      "needs_background": "light"
     },
     "output_type": "display_data"
    }
   ],
   "source": [
    "for q in np.quantile(preds_val[y_val==0], (0,0.5,0.7,0.9,0.95,0.99)):\n",
    "    print(q)\n",
    "    plt.hist(HL_val[:,3][(y_val==0)*(preds_val>q)], histtype='step', bins=25, range=(0,0.5), color='C0', alpha=0.1, fill=True)\n",
    "plt.yscale('log');"
   ]
  },
  {
   "cell_type": "code",
   "execution_count": 164,
   "metadata": {},
   "outputs": [
    {
     "name": "stdout",
     "output_type": "stream",
     "text": [
      "0.7958492636680603\n",
      "0.5699610710144043\n",
      "0.5073096513748169\n",
      "0.375879830121994\n",
      "0.31820842027664187\n",
      "0.22224053710699085\n"
     ]
    },
    {
     "data": {
      "image/png": "[encoded data removed]",
      "text/plain": [
       "<Figure size 432x288 with 1 Axes>"
      ]
     },
     "metadata": {
      "needs_background": "light"
     },
     "output_type": "display_data"
    }
   ],
   "source": [
    "for q in np.quantile(preds_val[y_val==1], (1-0.0,1-0.5,1-0.7,1-0.9,1-0.95,1-0.99)):\n",
    "    print(q)\n",
    "    plt.hist(HL_val[:,3][(y_val==1)*(preds_val<q)], histtype='step', bins=25, range=(0,0.5), color='C4', alpha=0.1, fill=True)\n",
    "plt.yscale('log');"
   ]
  },
  {
   "cell_type": "code",
   "execution_count": 44,
   "metadata": {},
   "outputs": [],
   "source": [
    "save_model = False\n",
    "\n",
    "if save_model:\n",
    "    if shuffle_particles:\n",
    "        file_name = 'model_benchmark_LL_shuff.h5'\n",
    "    else:\n",
    "        file_name = 'model_benchmark_LL.h5'\n",
    "    \n",
    "    benchmark_LL_nonaug.save(file_name)\n",
    "    print(\"Saved to\", file_name)"
   ]
  },
  {
   "cell_type": "code",
   "execution_count": null,
   "metadata": {},
   "outputs": [],
   "source": []
  },
  {
   "cell_type": "code",
   "execution_count": null,
   "metadata": {},
   "outputs": [],
   "source": []
  }
 ],
 "metadata": {
  "kernelspec": {
   "display_name": "Python 3",
   "language": "python",
   "name": "python3"
  },
  "language_info": {
   "codemirror_mode": {
    "name": "ipython",
    "version": 3
   },
   "file_extension": ".py",
   "mimetype": "text/x-python",
   "name": "python",
   "nbconvert_exporter": "python",
   "pygments_lexer": "ipython3",
   "version": "3.6.7"
  }
 },
 "nbformat": 4,
 "nbformat_minor": 4
}
